{
 "cells": [
  {
   "cell_type": "code",
   "execution_count": 35,
   "id": "becf3eca",
   "metadata": {},
   "outputs": [],
   "source": [
    "import pandas as pd\n",
    "import re\n",
    "from typing import List, Dict, Union"
   ]
  },
  {
   "cell_type": "markdown",
   "id": "07f254a1",
   "metadata": {},
   "source": [
    "## Configuration"
   ]
  },
  {
   "cell_type": "code",
   "execution_count": 36,
   "id": "db9719b1",
   "metadata": {},
   "outputs": [],
   "source": [
    "combined_patterns = {\n",
    "    \"road_configuration\": r\"(En Y|En T|En X|Hors intersection|Place|A plus de 4 branches)\",\n",
    "    \"lighting\": r\"(Plein jour|Crépuscule ou aube|Nuit avec éclairage public allumé|Nuit sans éclairage public)\",\n",
    "    \"weather\": r\"météo (Normale|Pluie légère|Temps couvert|Pluie forte)\",\n",
    "    \"surface\": r\"surface chaussée : (Normale|Mouillée|Non renseigné|Autre|Corps gras - huile|Enneigée|Flaques)\"\n",
    "}\n",
    "\n",
    "vehicle_patterns = {\n",
    "    \"Cyclomoteur <=50 cm3\": r\"Cyclomoteur <=50 cm3\",\n",
    "    \"Véhicule de tourisme (VT)\": r\"Véhicule de tourisme \\(VT\\)\",\n",
    "    \"Moto ou sidecar > 50 <= 125 cm3\": r\"Moto ou sidecar > 50 <= 125 cm3\",\n",
    "    \"Moto ou sidecar > 125 cm3\": r\"Moto ou sidecar > 125 cm3\",\n",
    "    \"Scooter <= 50 cm3\": r\"Scooter <= 50 cm3\",\n",
    "    \"Scooter > 125 cm3\": r\"Scooter > 125 cm3\",\n",
    "    \"Scooter > 50 <= 125 cm3\": r\"Scooter > 50 <= 125 cm3\",\n",
    "    \"VU seul 1,5T < PTAC <=3,5T\": r\"VU seul 1,5T < PTAC <=3,5T\",\n",
    "    \"PL > 3,5T + remorque\": r\"PL > 3,5T \\+ remorque\",\n",
    "    \"PL seul 3,5T <=\": r\"PL seul 3,5T <=\",\n",
    "    \"Autocar\": r\"Autocar\",\n",
    "    \"Autobus\": r\"Autobus\",\n",
    "    \"Bicyclette\": r\"Bicyclette\",\n",
    "    \"EDP-m\": r\"EDP-m\",\n",
    "    \"Voiturette\": r\"Voiturette\",\n",
    "    \"Quad léger <= 50 cm3\": r\"Quad léger <= 50 cm3\",\n",
    "    \"Tramway\": r\"Tramway\",\n",
    "    \"Autre véhicule\": r\"Autre véhicule\",\n",
    "    \"Tracteur routier + semi-remorque\": r\"Tracteur routier \\+ semi-remorque\",\n",
    "    \"PL seul PTAC > 7,5T\": r\"PL seul PTAC > 7,5T\",\n",
    "    \"3 RM > 125 cm3\": r\"3 RM > 125 cm3\",\n",
    "    \"3 RM <= 50 cm3\": r\"3 RM <= 50 cm3\",\n",
    "    \"Vélo par assistance électrique\": r\"Vélo par assistance électrique\",\n",
    "    \"Engin spécial\": r\"Engin spécial\",\n",
    "    \"EDP-sm\": r\"EDP-sm\",\n",
    "    \"Quad lourd > 50 cm3\": r\"Quad lourd > 50 cm3\",\n",
    "    \"Tracteur agricole\": r\"Tracteur agricole\",\n",
    "    \"EDP sans moteur\": r\"Autre engin de déplacement personnel \\(EDP\\) sans moteur\",\n",
    "    \"Indéterminable\": r\"Indéterminable\",\n",
    "    \"Piéton\": r\"Piéton\",\n",
    "    \"PL seul 3,5T <PTAC <= 7,5T\": r\"PL seul 3,5T <PTAC <= 7,5T\",\n",
    "    \"Nouvel engin de déplacement personnel (EDP) à moteur\": r\"Nouvel engin de déplacement personnel \\(EDP\\) à moteur\",\n",
    "    \"Tracteur routier\": r\"Tracteur routier\",\n",
    "    \"PL seul PTAC <= 7,5T\": r\"PL seul PTAC <= 7,5T\",\n",
    "    \"3 RM > 50 <= 125 cm3\": r\"3 RM > 50 <= 125 cm3\",\n",
    "    \"Autre engin de déplacement personnel (EDP) sans moteur\": r\"Autre engin de déplacement personnel \\(EDP\\) sans moteur\"\n",
    "}\n",
    "\n",
    "parties_sex = {\n",
    "    \"Usager Masculin\": r\"\\b1 usager Masculin(?: de \\d+ ans)?(?:\\s\\(.+?\\))?(?!\\spassager)\",\n",
    "    \"Usager Féminin\": r\"\\b1 usager Feminin(?: de \\d+ ans)?(?:\\s\\(.+?\\))?(?!\\spassager)\",\n",
    "}"
   ]
  },
  {
   "cell_type": "markdown",
   "id": "3a9291ed",
   "metadata": {},
   "source": [
    "## Functions"
   ]
  },
  {
   "cell_type": "code",
   "execution_count": 37,
   "id": "6be45f23",
   "metadata": {},
   "outputs": [],
   "source": [
    "def extract_accident_details(resume: str) -> Dict[str, Union[str, List[str]]]:\n",
    "    \"\"\"Extract accident details from a resume string using predefined patterns.\"\"\"\n",
    "    if not isinstance(resume, str) or pd.isna(resume):\n",
    "        return {}\n",
    "\n",
    "    # Extract combined characteristics\n",
    "    extracted_data = {\n",
    "        key: (m.group(1) if (m := re.search(pattern, resume)) else None)\n",
    "        for key, pattern in combined_patterns.items()\n",
    "    }\n",
    "\n",
    "    # Extract vehicle types (exclude \"Piéton\" in one go)\n",
    "    all_vehicles = [v for v, pat in vehicle_patterns.items() if re.search(pat, resume)]\n",
    "    extracted_data[\"vehicle_types\"] = [v for v in all_vehicles if v != \"Piéton\"]\n",
    "\n",
    "    # Extract driver sex (first that matches)\n",
    "    extracted_data[\"driver_sex\"] = next(\n",
    "        (\"Masculin\" if key == \"Usager Masculin\" else \"Feminin\"\n",
    "         for key, pat in parties_sex.items()\n",
    "         if re.search(pat, resume)),\n",
    "        None\n",
    "    )\n",
    "\n",
    "    return extracted_data"
   ]
  },
  {
   "cell_type": "code",
   "execution_count": 38,
   "id": "7b85ffa2",
   "metadata": {},
   "outputs": [],
   "source": [
    "def enrich_data_from_resume(df: pd.DataFrame) -> pd.DataFrame:\n",
    "    \"\"\"Enrich the DataFrame with extracted information from the 'Résumé' column.\"\"\"\n",
    "    # Apply extraction\n",
    "    details = df[\"Résumé\"].apply(extract_accident_details)\n",
    "    extracted_df = pd.json_normalize(details)\n",
    "\n",
    "    # Convert vehicle_types to a comma-separated string\n",
    "    if \"vehicle_types\" in extracted_df.columns:\n",
    "        extracted_df[\"vehicle_types\"] = extracted_df[\"vehicle_types\"].apply(\n",
    "            lambda x: \", \".join(x) if isinstance(x, list) else \"\"\n",
    "        )\n",
    "    else:\n",
    "        extracted_df[\"vehicle_types\"] = \"\"\n",
    "\n",
    "    # Concatenate\n",
    "    df_enriched = pd.concat([df, extracted_df], axis=1)\n",
    "\n",
    "    # Drop unwanted columns\n",
    "    columns_to_drop = [\n",
    "        \"Résumé\",\n",
    "        \"Coordonnées\",\n",
    "        \"Nom arrondissement\",\n",
    "        \"arronco\",\n",
    "        \"arrondgeo\",\n",
    "        \"Coordonnées.1\",\n",
    "        \"Champ13\",\n",
    "        \"PV\",\n",
    "        \"IdUsager\",\n",
    "        \"Nom arrondissement.1\",\n",
    "        \"Id accident\"\n",
    "        # Also remove location_context if it got created as a column\n",
    "        \"location_context\",\n",
    "    ]\n",
    "    # Use errors=\"ignore\" in case some columns don't exist\n",
    "    df_enriched.drop(columns=columns_to_drop, axis=1, errors=\"ignore\", inplace=True)\n",
    "\n",
    "    return df_enriched"
   ]
  },
  {
   "cell_type": "markdown",
   "id": "25133136",
   "metadata": {},
   "source": [
    "## Load the data and enrich the dataframe"
   ]
  },
  {
   "cell_type": "code",
   "execution_count": 39,
   "id": "3c05d833",
   "metadata": {},
   "outputs": [
    {
     "name": "stdout",
     "output_type": "stream",
     "text": [
      "Enriched data saved to 'accidents-enriched.csv'\n"
     ]
    }
   ],
   "source": [
    "if __name__ == \"__main__\":\n",
    "    df = pd.read_csv(\"../data/accidents.csv\", encoding=\"utf-8\", sep=\";\")\n",
    "\n",
    "    df[\"Résumé\"] = df[\"Résumé\"].apply(\n",
    "        lambda x: re.sub(r\"\\s+\", \" \", x.strip()) if isinstance(x, str) else x\n",
    "    )\n",
    "\n",
    "    df_enriched = enrich_data_from_resume(df)\n",
    "    df_enriched.to_csv(\"../data/accidents-enriched.csv\", index=False)\n",
    "    print(\"Enriched data saved to 'accidents-enriched.csv'\")"
   ]
  }
 ],
 "metadata": {
  "kernelspec": {
   "display_name": "venv",
   "language": "python",
   "name": "python3"
  },
  "language_info": {
   "codemirror_mode": {
    "name": "ipython",
    "version": 3
   },
   "file_extension": ".py",
   "mimetype": "text/x-python",
   "name": "python",
   "nbconvert_exporter": "python",
   "pygments_lexer": "ipython3",
   "version": "3.12.6"
  }
 },
 "nbformat": 4,
 "nbformat_minor": 5
}
