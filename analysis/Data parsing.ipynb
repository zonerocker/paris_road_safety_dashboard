{
 "cells": [
  {
   "cell_type": "markdown",
   "metadata": {},
   "source": [
    "# Analysis of Paris accident data - Part 2: parsing the summary field"
   ]
  },
  {
   "cell_type": "markdown",
   "metadata": {},
   "source": [
    "Looking at rows details, we seem to have a enough information for an analysis of Paris traffic accidents. If we want to go deeper, it appears that the `Summary` column often offers a short, free-text narrative about how each accident occurred.\n",
    "\n",
    "But let's be honest, the `Summary` field is a bit of a beast. We've got half-finished sentences, abbreviations that probably made sense to the person writing them but are a mystery to us, and a structure that changes from line to line. It's like the Wild West of data fields. Take this one, for instance: \"Minor accident, Non-fatal, In urban area, T-intersection, Daylight, with Normal weather and Normal road surface. 1 Passenger vehicle (PV) traveling on Municipal Road (MR) driven by 1 Male user, 30 years old (Ind) hits 1 Veh\". What, I ask you, is a \"Veh\"? Did they just give up halfway through typing? Another example that will for sure give us a hard time: \"Minor accident, Non-fatal, In urban area, Not at an intersection, Daylight, with Normal weather and Normal road surface. 1 Bicycle traveling on Municipal Road (MR) ridden by 1 Male user, 19 years old (Ind) hits 1 Pedestrian Male d\". \"Male d\", really? This man probably deserves more than a letter.   \n",
    "And it's not just about filling in missing words. We need to figure out what all the abbreviations mean. We're dealing with a whole different dialect here, filled with \"VMA\" and \"EDP-m,\" which, if you're curious, stand for the maximum speed limit and a motorized personal mobility device. Who knew?\n",
    "\n",
    "We're not going to use fancy generative AI models for this task, though. We need absolute accuracy and control. These AI models are great at generating text that looks right, but they can make mistakes, and we can't afford that when dealing with data that we'll be using for analysis. Plus, we need to understand exactly why a correction was made, and these models are like black boxes – it's hard to know what's going on inside. We'll try to use a more transparent and reliable approach."
   ]
  },
  {
   "cell_type": "markdown",
   "metadata": {},
   "source": [
    "**First, we need to define the regular expressions that will help us capture the key pieces of information from those messy summaries.**\n",
    "\n",
    "It is a **simplified, rule-based approach** to extract structured data from the `Summary` column of the `accidents_cleaned.csv` dataset. We will focus on the most common patterns and use basic regular expressions for clarity.\n"
   ]
  },
  {
   "cell_type": "code",
   "execution_count": 41,
   "metadata": {},
   "outputs": [
    {
     "data": {
      "text/plain": [
       "report_summary\n",
       "Hors intersection       12825\n",
       "En X                    10287\n",
       "En T                     6633\n",
       "En Y                     3039\n",
       "Place                    2831\n",
       "A plus de 4 branches     1226\n",
       "En giratoire               70\n",
       "Autre                      61\n",
       "Passage à niveau            1\n",
       "N/C                         1\n",
       "Name: count, dtype: int64"
      ]
     },
     "execution_count": 41,
     "metadata": {},
     "output_type": "execute_result"
    }
   ],
   "source": [
    "import re\n",
    "import pandas as pd\n",
    "\n",
    "# Load the dataset\n",
    "df = pd.read_csv('../data/accidents_cleaned.csv', sep=';')\n",
    "\n",
    "# Extract the 'Summary' column as a Series\n",
    "summaries = df['report_summary']\n",
    "\n",
    "# Define the regex pattern\n",
    "pattern_intersection = r\"En agglomération, ([^,]+)\"\n",
    "\n",
    "# Apply the regex to each element in the Series\n",
    "intersection_type = summaries.str.extract(pattern_intersection, expand=False)\n",
    "\n",
    "# Display the results\n",
    "intersection_type.value_counts()\n"
   ]
  },
  {
   "cell_type": "code",
   "execution_count": 42,
   "metadata": {},
   "outputs": [
    {
     "data": {
      "text/plain": [
       "report_summary\n",
       "Plein jour                               24023\n",
       "Nuit avec éclairage public  allumé        8702\n",
       "Crépuscule ou aube                        1973\n",
       "Nuit avec éclairage public allumé         1930\n",
       "Nuit sans éclairage public                 419\n",
       "Nuit avec éclairage public non allumé      205\n",
       "Name: count, dtype: int64"
      ]
     },
     "execution_count": 42,
     "metadata": {},
     "output_type": "execute_result"
    }
   ],
   "source": [
    "pattern_lighting = r\"^(?:[^,]*,){3}\\s*(.*?)\\s*,\\s*avec une météo\"\n",
    "\n",
    "# Apply the regex to each element in the Series\n",
    "lighting_condition = summaries.str.extract(pattern_lighting, expand=False)\n",
    "\n",
    "# Display the results\n",
    "lighting_condition.value_counts()"
   ]
  },
  {
   "cell_type": "code",
   "execution_count": 43,
   "metadata": {},
   "outputs": [
    {
     "data": {
      "text/plain": [
       "report_summary\n",
       "Normale                29941\n",
       "Pluie légère            4546\n",
       "Temps couvert           1699\n",
       "Pluie forte              658\n",
       "Temps éblouissant        190\n",
       "Neige - grèle             89\n",
       "Autre                     57\n",
       "Vent fort - tempête       46\n",
       "Brouillard - fumée        26\n",
       "Name: count, dtype: int64"
      ]
     },
     "execution_count": 43,
     "metadata": {},
     "output_type": "execute_result"
    }
   ],
   "source": [
    "pattern_meteo = r\"avec une météo\\s+(.*?)\\s+et\\s+une\\s+surface\\s+chaussée\"\n",
    "\n",
    "weather_condition = summaries.str.extract(pattern_meteo, expand=False)\n",
    "\n",
    "# Display the results\n",
    "weather_condition.value_counts()"
   ]
  },
  {
   "cell_type": "code",
   "execution_count": 44,
   "metadata": {},
   "outputs": [
    {
     "data": {
      "text/plain": [
       "report_summary\n",
       "Normale               29369\n",
       "Mouillée               7008\n",
       "Non renseigné           619\n",
       "Corps gras - huile       75\n",
       "Flaques                  58\n",
       "Autre                    51\n",
       "Enneigée                 40\n",
       "Verglacée                27\n",
       "Inondée                   5\n",
       "Name: count, dtype: int64"
      ]
     },
     "execution_count": 44,
     "metadata": {},
     "output_type": "execute_result"
    }
   ],
   "source": [
    "pattern_road_surface = r\"et\\s+une\\s+surface\\s+chaussée\\s*:\\s*(.*?)\\.\"\n",
    "\n",
    "road_surface = summaries.str.extract(pattern_road_surface, expand=False)\n",
    "\n",
    "# Display or check unique results\n",
    "road_surface.value_counts()"
   ]
  },
  {
   "cell_type": "code",
   "execution_count": 45,
   "metadata": {},
   "outputs": [
    {
     "data": {
      "text/plain": [
       "report_summary\n",
       "Véhicule de tourisme (VT)                                 15363\n",
       "Bicyclette                                                 3635\n",
       "Moto ou sidecar > 125 cm3                                  3216\n",
       "VU seul 1,5T < PTAC <=3,5T                                 2911\n",
       "Scooter <= 50 cm3                                          2780\n",
       "Scooter  > 50 <= 125 cm3                                   1975\n",
       "Cyclomoteur <=50 cm3                                       1105\n",
       "Scooter > 125 cm3                                          1035\n",
       "EDP-m                                                       909\n",
       "Moto ou sidecar  > 50 <= 125 cm3                            850\n",
       "3 RM > 125 cm3                                              613\n",
       "Autobus                                                     513\n",
       "Vélo par assistance électrique                              456\n",
       "Moto ou sidecar > 50 <= 125 cm3                             424\n",
       "Scooter > 50 <= 125 cm3                                     320\n",
       "PL seul PTAC > 7,5T                                         291\n",
       "Nouvel engin de déplacement personnel (EDP) à moteur        261\n",
       "PL > 3,5T + remorque                                        132\n",
       "PL seul 3,5T <PTAC <= 7,5T                                   86\n",
       "Autocar                                                      70\n",
       "Voiturette                                                   60\n",
       "Tracteur routier + semi-remorque                             59\n",
       "Tramway                                                      38\n",
       "Autre engin de déplacement personnel (EDP) sans moteur       32\n",
       "EDP-sm                                                       31\n",
       "Autre véhicule                                               25\n",
       "PL seul 3,5T <= 7,5T                                         25\n",
       "3 RM  > 50 <= 125 cm3                                        22\n",
       "Tracteur routier                                              5\n",
       "Quad lourd > 50 cm3                                           3\n",
       "Engin spécial                                                 3\n",
       "Quad léger <= 50 cm3                                          1\n",
       "Indéterminable                                                1\n",
       "3 RM <= 50 cm3                                                1\n",
       "Tracteur agricole                                             1\n",
       "Name: count, dtype: int64"
      ]
     },
     "execution_count": 45,
     "metadata": {},
     "output_type": "execute_result"
    }
   ],
   "source": [
    "pattern_first_vehicle = r\"1\\s+(.*?)\\s+circulant\"\n",
    "\n",
    "first_vehicle = summaries.str.extract(pattern_first_vehicle, expand=False)\n",
    "\n",
    "first_vehicle.value_counts()\n"
   ]
  },
  {
   "cell_type": "code",
   "execution_count": 46,
   "metadata": {},
   "outputs": [
    {
     "data": {
      "text/plain": [
       "report_summary\n",
       "30     11799\n",
       "50     11262\n",
       "70      3518\n",
       "90       167\n",
       "20        66\n",
       "25        46\n",
       "10        33\n",
       "5         16\n",
       "1         14\n",
       "15        12\n",
       "2          5\n",
       "3          5\n",
       "110        5\n",
       "4          2\n",
       "6          2\n",
       "300        1\n",
       "80         1\n",
       "60         1\n",
       "35         1\n",
       "45         1\n",
       "40         1\n",
       "Name: count, dtype: int64"
      ]
     },
     "execution_count": 46,
     "metadata": {},
     "output_type": "execute_result"
    }
   ],
   "source": [
    "pattern_max_speed = r\"VMA à (\\d+)\"\n",
    "\n",
    "max_speed = summaries.str.extract(pattern_max_speed, expand=False)\n",
    "\n",
    "max_speed.value_counts()"
   ]
  },
  {
   "cell_type": "markdown",
   "metadata": {},
   "source": [
    "We only search for the first letter of Masculin or Feminin because the text is truncated and sometimes only displaying Masc or Fe."
   ]
  },
  {
   "cell_type": "code",
   "execution_count": 47,
   "metadata": {},
   "outputs": [
    {
     "data": {
      "text/plain": [
       "report_summary\n",
       "M    28675\n",
       "F     6149\n",
       "Name: count, dtype: int64"
      ]
     },
     "execution_count": 47,
     "metadata": {},
     "output_type": "execute_result"
    }
   ],
   "source": [
    "pattern_driver_sex = r\"conduit\\s+par\\s+1\\s+usager\\s+([MFmf])\\w*\"\n",
    "\n",
    "driver_sex = summaries.str.extract(pattern_driver_sex, expand=False)\n",
    "\n",
    "driver_sex.value_counts()"
   ]
  },
  {
   "cell_type": "code",
   "execution_count": 48,
   "metadata": {},
   "outputs": [
    {
     "data": {
      "text/plain": [
       "report_summary\n",
       "26     1011\n",
       "27      993\n",
       "25      992\n",
       "31      972\n",
       "28      960\n",
       "       ... \n",
       "0         2\n",
       "9         2\n",
       "99        1\n",
       "97        1\n",
       "119       1\n",
       "Name: count, Length: 98, dtype: int64"
      ]
     },
     "execution_count": 48,
     "metadata": {},
     "output_type": "execute_result"
    }
   ],
   "source": [
    "pattern_driver_age = r\"conduit\\s+par\\s+1\\s+usager\\s+\\S+\\s+de\\s+(\\d+)(?:\\s+a[n]s?)?\"\n",
    "\n",
    "driver_age = summaries.str.extract(pattern_driver_age, expand=False)\n",
    "\n",
    "# Convert to numeric\n",
    "driver_age.value_counts()\n"
   ]
  },
  {
   "cell_type": "code",
   "execution_count": 49,
   "metadata": {},
   "outputs": [
    {
     "data": {
      "text/plain": [
       "report_summary\n",
       "Piéton                  2326\n",
       "Véhicule                2268\n",
       "Piét                     594\n",
       "Pié                      385\n",
       "Bicyclette               379\n",
       "                        ... \n",
       "PL seul 3,                 1\n",
       "Autre véhicule condu       1\n",
       "Autre véhic                1\n",
       "Autre véh                  1\n",
       "Autocar co                 1\n",
       "Name: count, Length: 343, dtype: int64"
      ]
     },
     "execution_count": 49,
     "metadata": {},
     "output_type": "execute_result"
    }
   ],
   "source": [
    "pattern_other_party = r\"heurte\\s+1\\s+(.*?)(?=\\s+(?:conduit|Masculin|Feminin|de)|\\s*\\(|$)\"\n",
    "\n",
    "other_party = summaries.str.extract(pattern_other_party, expand=False)\n",
    "\n",
    "# Convert to numeric\n",
    "other_party.value_counts()"
   ]
  },
  {
   "cell_type": "code",
   "execution_count": 50,
   "metadata": {},
   "outputs": [],
   "source": [
    "df['intersection_type'] = intersection_type\n",
    "df['lighting_condition'] = lighting_condition\n",
    "df['weather_condition'] = weather_condition\n",
    "df['road_surface'] = road_surface\n",
    "df['first_vehicle'] = first_vehicle\n",
    "df['max_speed'] = max_speed\n",
    "df['first_vehicle_driver_sex'] = driver_sex\n",
    "df['first_vehicle_driver_age'] = driver_age\n",
    "df['other_party'] = other_party\n",
    "\n",
    "# 4. Save the updated DataFrame to a new CSV file (using a semicolon separator)\n",
    "df.to_csv('../data/accidents_parsed.csv', sep=';', index=False)"
   ]
  }
 ],
 "metadata": {
  "kernelspec": {
   "display_name": "venv",
   "language": "python",
   "name": "python3"
  },
  "language_info": {
   "codemirror_mode": {
    "name": "ipython",
    "version": 3
   },
   "file_extension": ".py",
   "mimetype": "text/x-python",
   "name": "python",
   "nbconvert_exporter": "python",
   "pygments_lexer": "ipython3",
   "version": "3.12.8"
  }
 },
 "nbformat": 4,
 "nbformat_minor": 2
}
