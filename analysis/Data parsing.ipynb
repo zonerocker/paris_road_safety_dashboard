{
 "cells": [
  {
   "cell_type": "markdown",
   "metadata": {},
   "source": [
    "# Analysis of Paris Accident Data - Part 2: Parsing the Summary Field\n",
    "\n",
    "We've cleaned our dataset, addressed language issues, and removed redundant columns. Now, we'll focus on extracting structured data from the free-text \"Summary\" field. This involves converting the narrative accident descriptions into analyzable, categorical data."
   ]
  },
  {
   "cell_type": "markdown",
   "metadata": {},
   "source": [
    "# The Challenge: Understanding the Narrative\n",
    "\n",
    "Each \"Summary\" entry provides a brief account of an accident. However, these accounts are often incomplete, use abbreviations, and lack a consistent structure. Our goal is to impose structure on these narratives, assuming a consistent underlying pattern, even when information is missing or truncated.\n",
    "\n",
    "For instance, a typical Summary might read:\n",
    "\n",
    "\"Minor accident, Non-fatal, In urban area, T-intersection, Daylight, with Normal weather and Normal road surface. 1 Passenger vehicle (PV) traveling on Municipal Road (MR) driven by 1 Male user, 30 years old (Ind) hits 1 Veh\".\n",
    "\n",
    "We aim to transform this text into structured data without relying on generative AI models, ensuring accuracy and transparency in our data transformation."
   ]
  },
  {
   "cell_type": "markdown",
   "metadata": {},
   "source": [
    "# Step 1: Data Loading - Setting the Stage"
   ]
  },
  {
   "cell_type": "code",
   "execution_count": null,
   "metadata": {},
   "outputs": [
    {
     "data": {
      "text/plain": [
       "report_summary\n",
       "Hors intersection       12825\n",
       "En X                    10287\n",
       "En T                     6633\n",
       "En Y                     3039\n",
       "Place                    2831\n",
       "A plus de 4 branches     1226\n",
       "En giratoire               70\n",
       "Autre                      61\n",
       "Passage à niveau            1\n",
       "N/C                         1\n",
       "Name: count, dtype: int64"
      ]
     },
     "execution_count": 1,
     "metadata": {},
     "output_type": "execute_result"
    }
   ],
   "source": [
    "import re\n",
    "import pandas as pd\n",
    "\n",
    "# Load the dataset\n",
    "df = pd.read_csv('../data/accidents_cleaned.csv', sep=';')\n",
    "\n",
    "# Extract the 'Summary' column as a Series\n",
    "summaries = df['report_summary']\n"
   ]
  },
  {
   "cell_type": "markdown",
   "metadata": {},
   "source": [
    "# Step 2: Define our battle plan : Regular Expressions to the Rescue\n",
    "\n",
    "We'll use regular expressions (regex) to extract specific data points from the summaries. Regular expressions are sequences of characters that define a search pattern, allowing us to pinpoint and extract the information we need. Our approach will be rule-based and simplified, focusing on the most frequent patterns within the summaries and relying on strong assumptions as to where specific pieces of information may be found, if they are present. We start with intersection pattern."
   ]
  },
  {
   "cell_type": "code",
   "execution_count": null,
   "metadata": {},
   "outputs": [],
   "source": [
    "\n",
    "# Define the regex pattern\n",
    "pattern_intersection = r\"En agglomération, ([^,]+)\"\n",
    "\n",
    "# Apply the regex to each element in the Series\n",
    "intersection_type = summaries.str.extract(pattern_intersection, expand=False)\n",
    "\n",
    "# Display the results\n",
    "intersection_type.value_counts()"
   ]
  },
  {
   "cell_type": "code",
   "execution_count": 2,
   "metadata": {},
   "outputs": [
    {
     "data": {
      "text/plain": [
       "report_summary\n",
       "Plein jour                               24023\n",
       "Nuit avec éclairage public  allumé        8702\n",
       "Crépuscule ou aube                        1973\n",
       "Nuit avec éclairage public allumé         1930\n",
       "Nuit sans éclairage public                 419\n",
       "Nuit avec éclairage public non allumé      205\n",
       "Name: count, dtype: int64"
      ]
     },
     "execution_count": 2,
     "metadata": {},
     "output_type": "execute_result"
    }
   ],
   "source": [
    "pattern_lighting = r\"^(?:[^,]*,){3}\\s*(.*?)\\s*,\\s*avec une météo\"\n",
    "\n",
    "# Apply the regex to each element in the Series\n",
    "lighting_condition = summaries.str.extract(pattern_lighting, expand=False)\n",
    "\n",
    "# Display the results\n",
    "lighting_condition.value_counts()"
   ]
  },
  {
   "cell_type": "code",
   "execution_count": 3,
   "metadata": {},
   "outputs": [
    {
     "data": {
      "text/plain": [
       "report_summary\n",
       "Normale                29941\n",
       "Pluie légère            4546\n",
       "Temps couvert           1699\n",
       "Pluie forte              658\n",
       "Temps éblouissant        190\n",
       "Neige - grèle             89\n",
       "Autre                     57\n",
       "Vent fort - tempête       46\n",
       "Brouillard - fumée        26\n",
       "Name: count, dtype: int64"
      ]
     },
     "execution_count": 3,
     "metadata": {},
     "output_type": "execute_result"
    }
   ],
   "source": [
    "pattern_meteo = r\"avec une météo\\s+(.*?)\\s+et\\s+une\\s+surface\\s+chaussée\"\n",
    "\n",
    "weather_condition = summaries.str.extract(pattern_meteo, expand=False)\n",
    "\n",
    "# Display the results\n",
    "weather_condition.value_counts()"
   ]
  },
  {
   "cell_type": "code",
   "execution_count": 4,
   "metadata": {},
   "outputs": [
    {
     "data": {
      "text/plain": [
       "report_summary\n",
       "Normale               29369\n",
       "Mouillée               7008\n",
       "Non renseigné           619\n",
       "Corps gras - huile       75\n",
       "Flaques                  58\n",
       "Autre                    51\n",
       "Enneigée                 40\n",
       "Verglacée                27\n",
       "Inondée                   5\n",
       "Name: count, dtype: int64"
      ]
     },
     "execution_count": 4,
     "metadata": {},
     "output_type": "execute_result"
    }
   ],
   "source": [
    "pattern_road_surface = r\"et\\s+une\\s+surface\\s+chaussée\\s*:\\s*(.*?)\\.\"\n",
    "\n",
    "road_surface = summaries.str.extract(pattern_road_surface, expand=False)\n",
    "\n",
    "# Display or check unique results\n",
    "road_surface.value_counts()"
   ]
  },
  {
   "cell_type": "code",
   "execution_count": 5,
   "metadata": {},
   "outputs": [
    {
     "data": {
      "text/plain": [
       "report_summary\n",
       "Véhicule de tourisme (VT)                                 15363\n",
       "Bicyclette                                                 3635\n",
       "Moto ou sidecar > 125 cm3                                  3216\n",
       "VU seul 1,5T < PTAC <=3,5T                                 2911\n",
       "Scooter <= 50 cm3                                          2780\n",
       "Scooter  > 50 <= 125 cm3                                   1975\n",
       "Cyclomoteur <=50 cm3                                       1105\n",
       "Scooter > 125 cm3                                          1035\n",
       "EDP-m                                                       909\n",
       "Moto ou sidecar  > 50 <= 125 cm3                            850\n",
       "3 RM > 125 cm3                                              613\n",
       "Autobus                                                     513\n",
       "Vélo par assistance électrique                              456\n",
       "Moto ou sidecar > 50 <= 125 cm3                             424\n",
       "Scooter > 50 <= 125 cm3                                     320\n",
       "PL seul PTAC > 7,5T                                         291\n",
       "Nouvel engin de déplacement personnel (EDP) à moteur        261\n",
       "PL > 3,5T + remorque                                        132\n",
       "PL seul 3,5T <PTAC <= 7,5T                                   86\n",
       "Autocar                                                      70\n",
       "Voiturette                                                   60\n",
       "Tracteur routier + semi-remorque                             59\n",
       "Tramway                                                      38\n",
       "Autre engin de déplacement personnel (EDP) sans moteur       32\n",
       "EDP-sm                                                       31\n",
       "Autre véhicule                                               25\n",
       "PL seul 3,5T <= 7,5T                                         25\n",
       "3 RM  > 50 <= 125 cm3                                        22\n",
       "Tracteur routier                                              5\n",
       "Quad lourd > 50 cm3                                           3\n",
       "Engin spécial                                                 3\n",
       "Quad léger <= 50 cm3                                          1\n",
       "Indéterminable                                                1\n",
       "3 RM <= 50 cm3                                                1\n",
       "Tracteur agricole                                             1\n",
       "Name: count, dtype: int64"
      ]
     },
     "execution_count": 5,
     "metadata": {},
     "output_type": "execute_result"
    }
   ],
   "source": [
    "pattern_first_vehicle = r\"1\\s+(.*?)\\s+circulant\"\n",
    "\n",
    "first_vehicle = summaries.str.extract(pattern_first_vehicle, expand=False)\n",
    "\n",
    "first_vehicle.value_counts()\n"
   ]
  },
  {
   "cell_type": "code",
   "execution_count": 6,
   "metadata": {},
   "outputs": [
    {
     "data": {
      "text/plain": [
       "report_summary\n",
       "30     11799\n",
       "50     11262\n",
       "70      3518\n",
       "90       167\n",
       "20        66\n",
       "25        46\n",
       "10        33\n",
       "5         16\n",
       "1         14\n",
       "15        12\n",
       "2          5\n",
       "3          5\n",
       "110        5\n",
       "4          2\n",
       "6          2\n",
       "300        1\n",
       "80         1\n",
       "60         1\n",
       "35         1\n",
       "45         1\n",
       "40         1\n",
       "Name: count, dtype: int64"
      ]
     },
     "execution_count": 6,
     "metadata": {},
     "output_type": "execute_result"
    }
   ],
   "source": [
    "pattern_max_speed = r\"VMA à (\\d+)\"\n",
    "\n",
    "max_speed = summaries.str.extract(pattern_max_speed, expand=False)\n",
    "\n",
    "max_speed.value_counts()"
   ]
  },
  {
   "cell_type": "markdown",
   "metadata": {},
   "source": [
    "We only search for the first letter of Masculin or Feminin because the text is truncated and sometimes only displaying Masc or Fe."
   ]
  },
  {
   "cell_type": "code",
   "execution_count": 7,
   "metadata": {},
   "outputs": [
    {
     "data": {
      "text/plain": [
       "report_summary\n",
       "M    28675\n",
       "F     6149\n",
       "Name: count, dtype: int64"
      ]
     },
     "execution_count": 7,
     "metadata": {},
     "output_type": "execute_result"
    }
   ],
   "source": [
    "pattern_driver_sex = r\"conduit\\s+par\\s+1\\s+usager\\s+([MFmf])\\w*\"\n",
    "\n",
    "driver_sex = summaries.str.extract(pattern_driver_sex, expand=False)\n",
    "\n",
    "driver_sex.value_counts()"
   ]
  },
  {
   "cell_type": "code",
   "execution_count": 8,
   "metadata": {},
   "outputs": [
    {
     "data": {
      "text/plain": [
       "report_summary\n",
       "26     1011\n",
       "27      993\n",
       "25      992\n",
       "31      972\n",
       "28      960\n",
       "       ... \n",
       "0         2\n",
       "9         2\n",
       "99        1\n",
       "97        1\n",
       "119       1\n",
       "Name: count, Length: 98, dtype: int64"
      ]
     },
     "execution_count": 8,
     "metadata": {},
     "output_type": "execute_result"
    }
   ],
   "source": [
    "pattern_driver_age = r\"conduit\\s+par\\s+1\\s+usager\\s+\\S+\\s+de\\s+(\\d+)(?:\\s+a[n]s?)?\"\n",
    "\n",
    "driver_age = summaries.str.extract(pattern_driver_age, expand=False)\n",
    "\n",
    "# Convert to numeric\n",
    "driver_age.value_counts()\n"
   ]
  },
  {
   "cell_type": "markdown",
   "metadata": {},
   "source": [
    "# Step 3: Store the Extracted Data - Data, Meet DataFrame\n",
    "\n",
    "As we extract each piece of information, we add it as a new column to our DataFrame. That means we end up with brand new, neatly organized columns like intersection_type, lighting_condition, weather_condition, and so on. This structures our data nicely for future analysis, keeping each new category neatly in its own space."
   ]
  },
  {
   "cell_type": "code",
   "execution_count": 9,
   "metadata": {},
   "outputs": [],
   "source": [
    "df['intersection_type'] = intersection_type\n",
    "df['lighting_condition'] = lighting_condition\n",
    "df['weather_condition'] = weather_condition\n",
    "df['road_surface'] = road_surface\n",
    "df['first_vehicle'] = first_vehicle\n",
    "df['max_speed'] = max_speed\n",
    "df['first_vehicle_driver_sex'] = driver_sex\n",
    "df['first_vehicle_driver_age'] = driver_age"
   ]
  },
  {
   "cell_type": "markdown",
   "metadata": {},
   "source": [
    "# Step 5: Save the Updated Dataset\n",
    "\n",
    "With all this newly parsed data integrated into our DataFrame, it is time to save our progress. We export the updated DataFrame to a new CSV file, which we'll name accidents_parsed.csv. Now we've got a parsed dataset that's ready for analysis! Use df.to_csv('../data/accidents_parsed.csv', sep=';', index=False) to make it happen."
   ]
  },
  {
   "cell_type": "code",
   "execution_count": null,
   "metadata": {},
   "outputs": [],
   "source": [
    "# 4. Save the updated DataFrame to a new CSV file (using a semicolon separator)\n",
    "df.to_csv('../data/accidents_parsed.csv', sep=';', index=False)"
   ]
  }
 ],
 "metadata": {
  "kernelspec": {
   "display_name": "venv",
   "language": "python",
   "name": "python3"
  },
  "language_info": {
   "codemirror_mode": {
    "name": "ipython",
    "version": 3
   },
   "file_extension": ".py",
   "mimetype": "text/x-python",
   "name": "python",
   "nbconvert_exporter": "python",
   "pygments_lexer": "ipython3",
   "version": "3.12.8"
  }
 },
 "nbformat": 4,
 "nbformat_minor": 2
}
