{
 "cells": [
  {
   "cell_type": "markdown",
   "metadata": {},
   "source": [
    "# Analysis of Paris Accident Data - Part 2: Parsing the Summary Field\n",
    "\n",
    "We've cleaned our dataset, addressed language issues, and removed redundant columns. Now, we'll focus on extracting structured data from the free-text \"Summary\" field. This involves converting the narrative accident descriptions into analyzable, categorical data."
   ]
  },
  {
   "cell_type": "markdown",
   "metadata": {},
   "source": [
    "# The Challenge: Understanding the Narrative\n",
    "\n",
    "Each \"Summary\" entry provides a brief account of an accident. However, these accounts are often incomplete, use abbreviations, and lack a consistent structure. Our goal is to impose structure on these narratives, assuming a consistent underlying pattern, even when information is missing or truncated.\n",
    "\n",
    "For instance, a typical Summary might read:\n",
    "\n",
    "\"Minor accident, Non-fatal, In urban area, T-intersection, Daylight, with Normal weather and Normal road surface. 1 Passenger vehicle (PV) traveling on Municipal Road (MR) driven by 1 Male user, 30 years old (Ind) hits 1 Veh\".\n",
    "\n",
    "We aim to transform this text into structured data without relying on generative AI models, ensuring accuracy and transparency in our data transformation."
   ]
  },
  {
   "cell_type": "markdown",
   "metadata": {},
   "source": [
    "# Step 1: Data Loading - Setting the Stage"
   ]
  },
  {
   "cell_type": "code",
   "execution_count": 1,
   "metadata": {},
   "outputs": [],
   "source": [
    "import re\n",
    "import pandas as pd\n",
    "\n",
    "# Load the dataset\n",
    "df = pd.read_csv('../data/accidents_cleaned.csv', sep=';')\n",
    "\n",
    "# Extract the 'Summary' column as a Series\n",
    "summaries = df['report_summary']\n"
   ]
  },
  {
   "cell_type": "markdown",
   "metadata": {},
   "source": [
    "# Step 2: Define our battle plan : Regular Expressions to the Rescue\n",
    "\n",
    "We'll use regular expressions (regex) to extract specific data points from the summaries. Regular expressions are sequences of characters that define a search pattern, allowing us to pinpoint and extract the information we need. Our approach will be rule-based and simplified, focusing on the most frequent patterns within the summaries and relying on strong assumptions as to where specific pieces of information may be found, if they are present. We start with intersection pattern."
   ]
  },
  {
   "cell_type": "code",
   "execution_count": 2,
   "metadata": {},
   "outputs": [
    {
     "data": {
      "text/plain": [
       "report_summary\n",
       "Hors intersection       12825\n",
       "En X                    10287\n",
       "En T                     6633\n",
       "En Y                     3039\n",
       "Place                    2831\n",
       "A plus de 4 branches     1226\n",
       "En giratoire               70\n",
       "Autre                      61\n",
       "Passage à niveau            1\n",
       "N/C                         1\n",
       "Name: count, dtype: int64"
      ]
     },
     "execution_count": 2,
     "metadata": {},
     "output_type": "execute_result"
    }
   ],
   "source": [
    "\n",
    "# Define the regex pattern\n",
    "pattern_intersection = r\"En agglomération, ([^,]+)\"\n",
    "\n",
    "# Apply the regex to each element in the Series\n",
    "intersection_type = summaries.str.extract(pattern_intersection, expand=False)\n",
    "\n",
    "# Display the results\n",
    "intersection_type.value_counts()"
   ]
  },
  {
   "cell_type": "code",
   "execution_count": 3,
   "metadata": {},
   "outputs": [
    {
     "data": {
      "text/plain": [
       "report_summary\n",
       "Plein jour                               24023\n",
       "Nuit avec éclairage public  allumé        8702\n",
       "Crépuscule ou aube                        1973\n",
       "Nuit avec éclairage public allumé         1930\n",
       "Nuit sans éclairage public                 419\n",
       "Nuit avec éclairage public non allumé      205\n",
       "Name: count, dtype: int64"
      ]
     },
     "execution_count": 3,
     "metadata": {},
     "output_type": "execute_result"
    }
   ],
   "source": [
    "pattern_lighting = r\"^(?:[^,]*,){3}\\s*(.*?)\\s*,\\s*avec une météo\"\n",
    "\n",
    "# Apply the regex to each element in the Series\n",
    "lighting_condition = summaries.str.extract(pattern_lighting, expand=False)\n",
    "\n",
    "# Display the results\n",
    "lighting_condition.value_counts()"
   ]
  },
  {
   "cell_type": "code",
   "execution_count": 4,
   "metadata": {},
   "outputs": [
    {
     "data": {
      "text/plain": [
       "report_summary\n",
       "Normale                29941\n",
       "Pluie légère            4546\n",
       "Temps couvert           1699\n",
       "Pluie forte              658\n",
       "Temps éblouissant        190\n",
       "Neige - grèle             89\n",
       "Autre                     57\n",
       "Vent fort - tempête       46\n",
       "Brouillard - fumée        26\n",
       "Name: count, dtype: int64"
      ]
     },
     "execution_count": 4,
     "metadata": {},
     "output_type": "execute_result"
    }
   ],
   "source": [
    "pattern_meteo = r\"avec une météo\\s+(.*?)\\s+et\\s+une\\s+surface\\s+chaussée\"\n",
    "\n",
    "weather_condition = summaries.str.extract(pattern_meteo, expand=False)\n",
    "\n",
    "# Display the results\n",
    "weather_condition.value_counts()"
   ]
  },
  {
   "cell_type": "code",
   "execution_count": 5,
   "metadata": {},
   "outputs": [
    {
     "data": {
      "text/plain": [
       "report_summary\n",
       "Normale               29369\n",
       "Mouillée               7008\n",
       "Non renseigné           619\n",
       "Corps gras - huile       75\n",
       "Flaques                  58\n",
       "Autre                    51\n",
       "Enneigée                 40\n",
       "Verglacée                27\n",
       "Inondée                   5\n",
       "Name: count, dtype: int64"
      ]
     },
     "execution_count": 5,
     "metadata": {},
     "output_type": "execute_result"
    }
   ],
   "source": [
    "pattern_road_surface = r\"et\\s+une\\s+surface\\s+chaussée\\s*:\\s*(.*?)\\.\"\n",
    "\n",
    "road_surface = summaries.str.extract(pattern_road_surface, expand=False)\n",
    "\n",
    "# Display or check unique results\n",
    "road_surface.value_counts()"
   ]
  },
  {
   "cell_type": "code",
   "execution_count": 6,
   "metadata": {},
   "outputs": [
    {
     "data": {
      "text/plain": [
       "report_summary\n",
       "Véhicule de tourisme (VT)                                 15363\n",
       "Bicyclette                                                 3635\n",
       "Moto ou sidecar > 125 cm3                                  3216\n",
       "VU seul 1,5T < PTAC <=3,5T                                 2911\n",
       "Scooter <= 50 cm3                                          2780\n",
       "Scooter  > 50 <= 125 cm3                                   1975\n",
       "Cyclomoteur <=50 cm3                                       1105\n",
       "Scooter > 125 cm3                                          1035\n",
       "EDP-m                                                       909\n",
       "Moto ou sidecar  > 50 <= 125 cm3                            850\n",
       "3 RM > 125 cm3                                              613\n",
       "Autobus                                                     513\n",
       "Vélo par assistance électrique                              456\n",
       "Moto ou sidecar > 50 <= 125 cm3                             424\n",
       "Scooter > 50 <= 125 cm3                                     320\n",
       "PL seul PTAC > 7,5T                                         291\n",
       "Nouvel engin de déplacement personnel (EDP) à moteur        261\n",
       "PL > 3,5T + remorque                                        132\n",
       "PL seul 3,5T <PTAC <= 7,5T                                   86\n",
       "Autocar                                                      70\n",
       "Voiturette                                                   60\n",
       "Tracteur routier + semi-remorque                             59\n",
       "Tramway                                                      38\n",
       "Autre engin de déplacement personnel (EDP) sans moteur       32\n",
       "EDP-sm                                                       31\n",
       "Autre véhicule                                               25\n",
       "PL seul 3,5T <= 7,5T                                         25\n",
       "3 RM  > 50 <= 125 cm3                                        22\n",
       "Tracteur routier                                              5\n",
       "Quad lourd > 50 cm3                                           3\n",
       "Engin spécial                                                 3\n",
       "Quad léger <= 50 cm3                                          1\n",
       "Indéterminable                                                1\n",
       "3 RM <= 50 cm3                                                1\n",
       "Tracteur agricole                                             1\n",
       "Name: count, dtype: int64"
      ]
     },
     "execution_count": 6,
     "metadata": {},
     "output_type": "execute_result"
    }
   ],
   "source": [
    "pattern_first_vehicle = r\"1\\s+(.*?)\\s+circulant\"\n",
    "\n",
    "first_vehicle = summaries.str.extract(pattern_first_vehicle, expand=False)\n",
    "\n",
    "first_vehicle.value_counts()\n"
   ]
  },
  {
   "cell_type": "code",
   "execution_count": 7,
   "metadata": {},
   "outputs": [
    {
     "data": {
      "text/plain": [
       "report_summary\n",
       "30     11799\n",
       "50     11262\n",
       "70      3518\n",
       "90       167\n",
       "20        66\n",
       "25        46\n",
       "10        33\n",
       "5         16\n",
       "1         14\n",
       "15        12\n",
       "2          5\n",
       "3          5\n",
       "110        5\n",
       "4          2\n",
       "6          2\n",
       "300        1\n",
       "80         1\n",
       "60         1\n",
       "35         1\n",
       "45         1\n",
       "40         1\n",
       "Name: count, dtype: int64"
      ]
     },
     "execution_count": 7,
     "metadata": {},
     "output_type": "execute_result"
    }
   ],
   "source": [
    "pattern_max_speed = r\"VMA à (\\d+)\"\n",
    "\n",
    "max_speed = summaries.str.extract(pattern_max_speed, expand=False)\n",
    "\n",
    "max_speed.value_counts()"
   ]
  },
  {
   "cell_type": "markdown",
   "metadata": {},
   "source": [
    "We only search for the first letter of Masculin or Feminin because the text is truncated and sometimes only displaying Masc or Fe."
   ]
  },
  {
   "cell_type": "code",
   "execution_count": 8,
   "metadata": {},
   "outputs": [
    {
     "data": {
      "text/plain": [
       "report_summary\n",
       "M    28675\n",
       "F     6149\n",
       "Name: count, dtype: int64"
      ]
     },
     "execution_count": 8,
     "metadata": {},
     "output_type": "execute_result"
    }
   ],
   "source": [
    "pattern_driver_sex = r\"conduit\\s+par\\s+1\\s+usager\\s+([MFmf])\\w*\"\n",
    "\n",
    "driver_sex = summaries.str.extract(pattern_driver_sex, expand=False)\n",
    "\n",
    "driver_sex.value_counts()"
   ]
  },
  {
   "cell_type": "code",
   "execution_count": 9,
   "metadata": {},
   "outputs": [
    {
     "data": {
      "text/plain": [
       "report_summary\n",
       "26     1011\n",
       "27      993\n",
       "25      992\n",
       "31      972\n",
       "28      960\n",
       "       ... \n",
       "0         2\n",
       "9         2\n",
       "99        1\n",
       "97        1\n",
       "119       1\n",
       "Name: count, Length: 98, dtype: int64"
      ]
     },
     "execution_count": 9,
     "metadata": {},
     "output_type": "execute_result"
    }
   ],
   "source": [
    "pattern_driver_age = r\"conduit\\s+par\\s+1\\s+usager\\s+\\S+\\s+de\\s+(\\d+)(?:\\s+a[n]s?)?\"\n",
    "\n",
    "driver_age = summaries.str.extract(pattern_driver_age, expand=False)\n",
    "\n",
    "# Convert to numeric\n",
    "driver_age.value_counts()\n"
   ]
  },
  {
   "cell_type": "markdown",
   "metadata": {},
   "source": [
    "# Step 3: Store the Extracted Data - Data, Meet DataFrame\n",
    "\n",
    "As we extract each piece of information, we add it as a new column to our DataFrame. That means we end up with brand new, neatly organized columns like intersection_type, lighting_condition, weather_condition, and so on. This structures our data nicely for future analysis, keeping each new category neatly in its own space."
   ]
  },
  {
   "cell_type": "code",
   "execution_count": 10,
   "metadata": {},
   "outputs": [],
   "source": [
    "df['intersection_type'] = intersection_type\n",
    "df['lighting_condition'] = lighting_condition\n",
    "df['weather_condition'] = weather_condition\n",
    "df['road_surface'] = road_surface\n",
    "df['first_vehicle'] = first_vehicle\n",
    "df['max_speed'] = max_speed\n",
    "df['first_vehicle_driver_sex'] = driver_sex\n",
    "df['first_vehicle_driver_age'] = driver_age"
   ]
  },
  {
   "cell_type": "markdown",
   "metadata": {},
   "source": [
    "\n",
    "Additionally, we want more granular insights about accidents on the Boulevard Périphérique. For that, we can parse a KML file containing the coordinates of each exchanger or “porte” around the ring. Below is an example of how to parse the provided doc.kml file and store the placemarks in a new DataFrame."
   ]
  },
  {
   "cell_type": "code",
   "execution_count": 11,
   "metadata": {},
   "outputs": [
    {
     "data": {
      "text/html": [
       "<div>\n",
       "<style scoped>\n",
       "    .dataframe tbody tr th:only-of-type {\n",
       "        vertical-align: middle;\n",
       "    }\n",
       "\n",
       "    .dataframe tbody tr th {\n",
       "        vertical-align: top;\n",
       "    }\n",
       "\n",
       "    .dataframe thead th {\n",
       "        text-align: right;\n",
       "    }\n",
       "</style>\n",
       "<table border=\"1\" class=\"dataframe\">\n",
       "  <thead>\n",
       "    <tr style=\"text-align: right;\">\n",
       "      <th></th>\n",
       "      <th>exchange_name</th>\n",
       "      <th>latitude</th>\n",
       "      <th>longitude</th>\n",
       "      <th>altitude</th>\n",
       "    </tr>\n",
       "  </thead>\n",
       "  <tbody>\n",
       "    <tr>\n",
       "      <th>0</th>\n",
       "      <td>#1</td>\n",
       "      <td>48.827220</td>\n",
       "      <td>2.391390</td>\n",
       "      <td>0.0</td>\n",
       "    </tr>\n",
       "    <tr>\n",
       "      <th>1</th>\n",
       "      <td>#2</td>\n",
       "      <td>48.824720</td>\n",
       "      <td>2.384170</td>\n",
       "      <td>0.0</td>\n",
       "    </tr>\n",
       "    <tr>\n",
       "      <th>2</th>\n",
       "      <td>#3</td>\n",
       "      <td>48.819569</td>\n",
       "      <td>2.373185</td>\n",
       "      <td>0.0</td>\n",
       "    </tr>\n",
       "    <tr>\n",
       "      <th>3</th>\n",
       "      <td>#4</td>\n",
       "      <td>48.816110</td>\n",
       "      <td>2.360280</td>\n",
       "      <td>0.0</td>\n",
       "    </tr>\n",
       "    <tr>\n",
       "      <th>4</th>\n",
       "      <td>#5</td>\n",
       "      <td>48.816390</td>\n",
       "      <td>2.356390</td>\n",
       "      <td>0.0</td>\n",
       "    </tr>\n",
       "  </tbody>\n",
       "</table>\n",
       "</div>"
      ],
      "text/plain": [
       "  exchange_name   latitude  longitude  altitude\n",
       "0            #1  48.827220   2.391390       0.0\n",
       "1            #2  48.824720   2.384170       0.0\n",
       "2            #3  48.819569   2.373185       0.0\n",
       "3            #4  48.816110   2.360280       0.0\n",
       "4            #5  48.816390   2.356390       0.0"
      ]
     },
     "execution_count": 11,
     "metadata": {},
     "output_type": "execute_result"
    }
   ],
   "source": [
    "import xml.etree.ElementTree as ET\n",
    "\n",
    "kml_file = \"../data/doc.kml\"\n",
    "\n",
    "# Parse the KML\n",
    "tree = ET.parse(kml_file)\n",
    "root = tree.getroot()\n",
    "\n",
    "# KML namespace from the file (adjust if needed)\n",
    "ns = {'kml': 'http://earth.google.com/kml/2.1'}\n",
    "\n",
    "# Find all <Placemark> elements\n",
    "placemarks = root.findall('.//kml:Placemark', ns)\n",
    "\n",
    "portes_data = []\n",
    "\n",
    "for pm in placemarks:\n",
    "    # Get the <name> of the placemark\n",
    "    name_el = pm.find('kml:name', ns)\n",
    "    placemark_name = name_el.text.strip() if name_el is not None else None\n",
    "    \n",
    "    # Get the coordinates (lon,lat,alt)\n",
    "    coords_el = pm.find('.//kml:Point/kml:coordinates', ns)\n",
    "    coords_text = coords_el.text.strip() if coords_el is not None else None\n",
    "    \n",
    "    if coords_text:\n",
    "        lon_str, lat_str, alt_str = coords_text.split(',')\n",
    "        longitude = float(lon_str)\n",
    "        latitude = float(lat_str)\n",
    "        altitude = float(alt_str)\n",
    "    else:\n",
    "        longitude, latitude, altitude = None, None, None\n",
    "    \n",
    "    portes_data.append({\n",
    "        'exchange_name': placemark_name,\n",
    "        'latitude': latitude,\n",
    "        'longitude': longitude,\n",
    "        'altitude': altitude,\n",
    "    })\n",
    "\n",
    "df_portes = pd.DataFrame(portes_data)\n",
    "df_portes.head()\n"
   ]
  },
  {
   "cell_type": "code",
   "execution_count": 12,
   "metadata": {},
   "outputs": [
    {
     "ename": "TypeError",
     "evalue": "unsupported operand type(s) for -: 'float' and 'str'",
     "output_type": "error",
     "traceback": [
      "\u001b[0;31m---------------------------------------------------------------------------\u001b[0m",
      "\u001b[0;31mTypeError\u001b[0m                                 Traceback (most recent call last)",
      "Cell \u001b[0;32mIn[12], line 16\u001b[0m\n\u001b[1;32m     14\u001b[0m \u001b[38;5;66;03m# Example usage: subset accidents on the Périphérique, assign nearest porte\u001b[39;00m\n\u001b[1;32m     15\u001b[0m df_periph \u001b[38;5;241m=\u001b[39m df[df[\u001b[38;5;124m'\u001b[39m\u001b[38;5;124mperiphery_info\u001b[39m\u001b[38;5;124m'\u001b[39m] \u001b[38;5;241m==\u001b[39m \u001b[38;5;124m'\u001b[39m\u001b[38;5;124mBD PERIPHERIQUE\u001b[39m\u001b[38;5;124m'\u001b[39m]\u001b[38;5;241m.\u001b[39mcopy()\n\u001b[0;32m---> 16\u001b[0m df_periph[\u001b[38;5;124m'\u001b[39m\u001b[38;5;124mnearest_porte\u001b[39m\u001b[38;5;124m'\u001b[39m] \u001b[38;5;241m=\u001b[39m \u001b[43mdf_periph\u001b[49m\u001b[38;5;241;43m.\u001b[39;49m\u001b[43mapply\u001b[49m\u001b[43m(\u001b[49m\n\u001b[1;32m     17\u001b[0m \u001b[43m    \u001b[49m\u001b[38;5;28;43;01mlambda\u001b[39;49;00m\u001b[43m \u001b[49m\u001b[43mr\u001b[49m\u001b[43m:\u001b[49m\u001b[43m \u001b[49m\u001b[43mget_nearest_porte\u001b[49m\u001b[43m(\u001b[49m\u001b[43mr\u001b[49m\u001b[43m[\u001b[49m\u001b[38;5;124;43m'\u001b[39;49m\u001b[38;5;124;43mlatitude\u001b[39;49m\u001b[38;5;124;43m'\u001b[39;49m\u001b[43m]\u001b[49m\u001b[43m,\u001b[49m\u001b[43m \u001b[49m\u001b[43mr\u001b[49m\u001b[43m[\u001b[49m\u001b[38;5;124;43m'\u001b[39;49m\u001b[38;5;124;43mlongitude\u001b[39;49m\u001b[38;5;124;43m'\u001b[39;49m\u001b[43m]\u001b[49m\u001b[43m,\u001b[49m\u001b[43m \u001b[49m\u001b[43mdf_portes\u001b[49m\u001b[43m)\u001b[49m\u001b[43m,\u001b[49m\n\u001b[1;32m     18\u001b[0m \u001b[43m    \u001b[49m\u001b[43maxis\u001b[49m\u001b[38;5;241;43m=\u001b[39;49m\u001b[38;5;241;43m1\u001b[39;49m\n\u001b[1;32m     19\u001b[0m \u001b[43m)\u001b[49m\n",
      "File \u001b[0;32m~/Library/Mobile Documents/com~apple~CloudDocs/Data Analysis/paris_road_safety_dashboard/venv/lib/python3.12/site-packages/pandas/core/frame.py:10374\u001b[0m, in \u001b[0;36mDataFrame.apply\u001b[0;34m(self, func, axis, raw, result_type, args, by_row, engine, engine_kwargs, **kwargs)\u001b[0m\n\u001b[1;32m  10360\u001b[0m \u001b[38;5;28;01mfrom\u001b[39;00m \u001b[38;5;21;01mpandas\u001b[39;00m\u001b[38;5;21;01m.\u001b[39;00m\u001b[38;5;21;01mcore\u001b[39;00m\u001b[38;5;21;01m.\u001b[39;00m\u001b[38;5;21;01mapply\u001b[39;00m \u001b[38;5;28;01mimport\u001b[39;00m frame_apply\n\u001b[1;32m  10362\u001b[0m op \u001b[38;5;241m=\u001b[39m frame_apply(\n\u001b[1;32m  10363\u001b[0m     \u001b[38;5;28mself\u001b[39m,\n\u001b[1;32m  10364\u001b[0m     func\u001b[38;5;241m=\u001b[39mfunc,\n\u001b[0;32m   (...)\u001b[0m\n\u001b[1;32m  10372\u001b[0m     kwargs\u001b[38;5;241m=\u001b[39mkwargs,\n\u001b[1;32m  10373\u001b[0m )\n\u001b[0;32m> 10374\u001b[0m \u001b[38;5;28;01mreturn\u001b[39;00m \u001b[43mop\u001b[49m\u001b[38;5;241;43m.\u001b[39;49m\u001b[43mapply\u001b[49m\u001b[43m(\u001b[49m\u001b[43m)\u001b[49m\u001b[38;5;241m.\u001b[39m__finalize__(\u001b[38;5;28mself\u001b[39m, method\u001b[38;5;241m=\u001b[39m\u001b[38;5;124m\"\u001b[39m\u001b[38;5;124mapply\u001b[39m\u001b[38;5;124m\"\u001b[39m)\n",
      "File \u001b[0;32m~/Library/Mobile Documents/com~apple~CloudDocs/Data Analysis/paris_road_safety_dashboard/venv/lib/python3.12/site-packages/pandas/core/apply.py:916\u001b[0m, in \u001b[0;36mFrameApply.apply\u001b[0;34m(self)\u001b[0m\n\u001b[1;32m    913\u001b[0m \u001b[38;5;28;01melif\u001b[39;00m \u001b[38;5;28mself\u001b[39m\u001b[38;5;241m.\u001b[39mraw:\n\u001b[1;32m    914\u001b[0m     \u001b[38;5;28;01mreturn\u001b[39;00m \u001b[38;5;28mself\u001b[39m\u001b[38;5;241m.\u001b[39mapply_raw(engine\u001b[38;5;241m=\u001b[39m\u001b[38;5;28mself\u001b[39m\u001b[38;5;241m.\u001b[39mengine, engine_kwargs\u001b[38;5;241m=\u001b[39m\u001b[38;5;28mself\u001b[39m\u001b[38;5;241m.\u001b[39mengine_kwargs)\n\u001b[0;32m--> 916\u001b[0m \u001b[38;5;28;01mreturn\u001b[39;00m \u001b[38;5;28;43mself\u001b[39;49m\u001b[38;5;241;43m.\u001b[39;49m\u001b[43mapply_standard\u001b[49m\u001b[43m(\u001b[49m\u001b[43m)\u001b[49m\n",
      "File \u001b[0;32m~/Library/Mobile Documents/com~apple~CloudDocs/Data Analysis/paris_road_safety_dashboard/venv/lib/python3.12/site-packages/pandas/core/apply.py:1063\u001b[0m, in \u001b[0;36mFrameApply.apply_standard\u001b[0;34m(self)\u001b[0m\n\u001b[1;32m   1061\u001b[0m \u001b[38;5;28;01mdef\u001b[39;00m \u001b[38;5;21mapply_standard\u001b[39m(\u001b[38;5;28mself\u001b[39m):\n\u001b[1;32m   1062\u001b[0m     \u001b[38;5;28;01mif\u001b[39;00m \u001b[38;5;28mself\u001b[39m\u001b[38;5;241m.\u001b[39mengine \u001b[38;5;241m==\u001b[39m \u001b[38;5;124m\"\u001b[39m\u001b[38;5;124mpython\u001b[39m\u001b[38;5;124m\"\u001b[39m:\n\u001b[0;32m-> 1063\u001b[0m         results, res_index \u001b[38;5;241m=\u001b[39m \u001b[38;5;28;43mself\u001b[39;49m\u001b[38;5;241;43m.\u001b[39;49m\u001b[43mapply_series_generator\u001b[49m\u001b[43m(\u001b[49m\u001b[43m)\u001b[49m\n\u001b[1;32m   1064\u001b[0m     \u001b[38;5;28;01melse\u001b[39;00m:\n\u001b[1;32m   1065\u001b[0m         results, res_index \u001b[38;5;241m=\u001b[39m \u001b[38;5;28mself\u001b[39m\u001b[38;5;241m.\u001b[39mapply_series_numba()\n",
      "File \u001b[0;32m~/Library/Mobile Documents/com~apple~CloudDocs/Data Analysis/paris_road_safety_dashboard/venv/lib/python3.12/site-packages/pandas/core/apply.py:1081\u001b[0m, in \u001b[0;36mFrameApply.apply_series_generator\u001b[0;34m(self)\u001b[0m\n\u001b[1;32m   1078\u001b[0m \u001b[38;5;28;01mwith\u001b[39;00m option_context(\u001b[38;5;124m\"\u001b[39m\u001b[38;5;124mmode.chained_assignment\u001b[39m\u001b[38;5;124m\"\u001b[39m, \u001b[38;5;28;01mNone\u001b[39;00m):\n\u001b[1;32m   1079\u001b[0m     \u001b[38;5;28;01mfor\u001b[39;00m i, v \u001b[38;5;129;01min\u001b[39;00m \u001b[38;5;28menumerate\u001b[39m(series_gen):\n\u001b[1;32m   1080\u001b[0m         \u001b[38;5;66;03m# ignore SettingWithCopy here in case the user mutates\u001b[39;00m\n\u001b[0;32m-> 1081\u001b[0m         results[i] \u001b[38;5;241m=\u001b[39m \u001b[38;5;28;43mself\u001b[39;49m\u001b[38;5;241;43m.\u001b[39;49m\u001b[43mfunc\u001b[49m\u001b[43m(\u001b[49m\u001b[43mv\u001b[49m\u001b[43m,\u001b[49m\u001b[43m \u001b[49m\u001b[38;5;241;43m*\u001b[39;49m\u001b[38;5;28;43mself\u001b[39;49m\u001b[38;5;241;43m.\u001b[39;49m\u001b[43margs\u001b[49m\u001b[43m,\u001b[49m\u001b[43m \u001b[49m\u001b[38;5;241;43m*\u001b[39;49m\u001b[38;5;241;43m*\u001b[39;49m\u001b[38;5;28;43mself\u001b[39;49m\u001b[38;5;241;43m.\u001b[39;49m\u001b[43mkwargs\u001b[49m\u001b[43m)\u001b[49m\n\u001b[1;32m   1082\u001b[0m         \u001b[38;5;28;01mif\u001b[39;00m \u001b[38;5;28misinstance\u001b[39m(results[i], ABCSeries):\n\u001b[1;32m   1083\u001b[0m             \u001b[38;5;66;03m# If we have a view on v, we need to make a copy because\u001b[39;00m\n\u001b[1;32m   1084\u001b[0m             \u001b[38;5;66;03m#  series_generator will swap out the underlying data\u001b[39;00m\n\u001b[1;32m   1085\u001b[0m             results[i] \u001b[38;5;241m=\u001b[39m results[i]\u001b[38;5;241m.\u001b[39mcopy(deep\u001b[38;5;241m=\u001b[39m\u001b[38;5;28;01mFalse\u001b[39;00m)\n",
      "Cell \u001b[0;32mIn[12], line 17\u001b[0m, in \u001b[0;36m<lambda>\u001b[0;34m(r)\u001b[0m\n\u001b[1;32m     14\u001b[0m \u001b[38;5;66;03m# Example usage: subset accidents on the Périphérique, assign nearest porte\u001b[39;00m\n\u001b[1;32m     15\u001b[0m df_periph \u001b[38;5;241m=\u001b[39m df[df[\u001b[38;5;124m'\u001b[39m\u001b[38;5;124mperiphery_info\u001b[39m\u001b[38;5;124m'\u001b[39m] \u001b[38;5;241m==\u001b[39m \u001b[38;5;124m'\u001b[39m\u001b[38;5;124mBD PERIPHERIQUE\u001b[39m\u001b[38;5;124m'\u001b[39m]\u001b[38;5;241m.\u001b[39mcopy()\n\u001b[1;32m     16\u001b[0m df_periph[\u001b[38;5;124m'\u001b[39m\u001b[38;5;124mnearest_porte\u001b[39m\u001b[38;5;124m'\u001b[39m] \u001b[38;5;241m=\u001b[39m df_periph\u001b[38;5;241m.\u001b[39mapply(\n\u001b[0;32m---> 17\u001b[0m     \u001b[38;5;28;01mlambda\u001b[39;00m r: \u001b[43mget_nearest_porte\u001b[49m\u001b[43m(\u001b[49m\u001b[43mr\u001b[49m\u001b[43m[\u001b[49m\u001b[38;5;124;43m'\u001b[39;49m\u001b[38;5;124;43mlatitude\u001b[39;49m\u001b[38;5;124;43m'\u001b[39;49m\u001b[43m]\u001b[49m\u001b[43m,\u001b[49m\u001b[43m \u001b[49m\u001b[43mr\u001b[49m\u001b[43m[\u001b[49m\u001b[38;5;124;43m'\u001b[39;49m\u001b[38;5;124;43mlongitude\u001b[39;49m\u001b[38;5;124;43m'\u001b[39;49m\u001b[43m]\u001b[49m\u001b[43m,\u001b[49m\u001b[43m \u001b[49m\u001b[43mdf_portes\u001b[49m\u001b[43m)\u001b[49m,\n\u001b[1;32m     18\u001b[0m     axis\u001b[38;5;241m=\u001b[39m\u001b[38;5;241m1\u001b[39m\n\u001b[1;32m     19\u001b[0m )\n",
      "Cell \u001b[0;32mIn[12], line 8\u001b[0m, in \u001b[0;36mget_nearest_porte\u001b[0;34m(lat, lon, df_portes)\u001b[0m\n\u001b[1;32m      6\u001b[0m nearest_name \u001b[38;5;241m=\u001b[39m \u001b[38;5;28;01mNone\u001b[39;00m\n\u001b[1;32m      7\u001b[0m \u001b[38;5;28;01mfor\u001b[39;00m idx, row \u001b[38;5;129;01min\u001b[39;00m df_portes\u001b[38;5;241m.\u001b[39miterrows():\n\u001b[0;32m----> 8\u001b[0m     d \u001b[38;5;241m=\u001b[39m \u001b[43mapproximate_distance\u001b[49m\u001b[43m(\u001b[49m\u001b[43mlat\u001b[49m\u001b[43m,\u001b[49m\u001b[43m \u001b[49m\u001b[43mlon\u001b[49m\u001b[43m,\u001b[49m\u001b[43m \u001b[49m\u001b[43mrow\u001b[49m\u001b[43m[\u001b[49m\u001b[38;5;124;43m'\u001b[39;49m\u001b[38;5;124;43mlatitude\u001b[39;49m\u001b[38;5;124;43m'\u001b[39;49m\u001b[43m]\u001b[49m\u001b[43m,\u001b[49m\u001b[43m \u001b[49m\u001b[43mrow\u001b[49m\u001b[43m[\u001b[49m\u001b[38;5;124;43m'\u001b[39;49m\u001b[38;5;124;43mlongitude\u001b[39;49m\u001b[38;5;124;43m'\u001b[39;49m\u001b[43m]\u001b[49m\u001b[43m)\u001b[49m\n\u001b[1;32m      9\u001b[0m     \u001b[38;5;28;01mif\u001b[39;00m d \u001b[38;5;241m<\u001b[39m min_dist:\n\u001b[1;32m     10\u001b[0m         min_dist \u001b[38;5;241m=\u001b[39m d\n",
      "Cell \u001b[0;32mIn[12], line 2\u001b[0m, in \u001b[0;36mapproximate_distance\u001b[0;34m(lat1, lon1, lat2, lon2)\u001b[0m\n\u001b[1;32m      1\u001b[0m \u001b[38;5;28;01mdef\u001b[39;00m \u001b[38;5;21mapproximate_distance\u001b[39m(lat1, lon1, lat2, lon2):\n\u001b[0;32m----> 2\u001b[0m     \u001b[38;5;28;01mreturn\u001b[39;00m ((\u001b[43mlat2\u001b[49m\u001b[43m \u001b[49m\u001b[38;5;241;43m-\u001b[39;49m\u001b[43m \u001b[49m\u001b[43mlat1\u001b[49m)\u001b[38;5;241m*\u001b[39m\u001b[38;5;241m*\u001b[39m\u001b[38;5;241m2\u001b[39m \u001b[38;5;241m+\u001b[39m (lon2 \u001b[38;5;241m-\u001b[39m lon1)\u001b[38;5;241m*\u001b[39m\u001b[38;5;241m*\u001b[39m\u001b[38;5;241m2\u001b[39m) \u001b[38;5;241m*\u001b[39m\u001b[38;5;241m*\u001b[39m \u001b[38;5;241m0.5\u001b[39m\n",
      "\u001b[0;31mTypeError\u001b[0m: unsupported operand type(s) for -: 'float' and 'str'"
     ]
    }
   ],
   "source": [
    "def approximate_distance(lat1, lon1, lat2, lon2):\n",
    "    return ((lat2 - lat1)**2 + (lon2 - lon1)**2) ** 0.5\n",
    "\n",
    "def get_nearest_porte(lat, lon, df_portes):\n",
    "    min_dist = float('inf')\n",
    "    nearest_name = None\n",
    "    for idx, row in df_portes.iterrows():\n",
    "        d = approximate_distance(lat, lon, row['latitude'], row['longitude'])\n",
    "        if d < min_dist:\n",
    "            min_dist = d\n",
    "            nearest_name = row['exchange_name']\n",
    "    return nearest_name\n",
    "\n",
    "# Example usage: subset accidents on the Périphérique, assign nearest porte\n",
    "df_periph = df[df['periphery_info'] == 'BD PERIPHERIQUE'].copy()\n",
    "df_periph['nearest_porte'] = df_periph.apply(\n",
    "    lambda r: get_nearest_porte(r['latitude'], r['longitude'], df_portes),\n",
    "    axis=1\n",
    ")"
   ]
  },
  {
   "cell_type": "markdown",
   "metadata": {},
   "source": [
    "# Step 5: Save the Updated Dataset\n",
    "\n",
    "With all this newly parsed data integrated into our DataFrame, it is time to save our progress. We export the updated DataFrame to a new CSV file, which we'll name accidents_parsed.csv. Now we've got a parsed dataset that's ready for analysis! Use df.to_csv('../data/accidents_parsed.csv', sep=';', index=False) to make it happen."
   ]
  },
  {
   "cell_type": "code",
   "execution_count": null,
   "metadata": {},
   "outputs": [],
   "source": [
    "# 4. Save the updated DataFrame to a new CSV file (using a semicolon separator)\n",
    "df.to_csv('../data/accidents_parsed.csv', sep=';', index=False)"
   ]
  }
 ],
 "metadata": {
  "kernelspec": {
   "display_name": "venv",
   "language": "python",
   "name": "python3"
  },
  "language_info": {
   "codemirror_mode": {
    "name": "ipython",
    "version": 3
   },
   "file_extension": ".py",
   "mimetype": "text/x-python",
   "name": "python",
   "nbconvert_exporter": "python",
   "pygments_lexer": "ipython3",
   "version": "3.12.8"
  }
 },
 "nbformat": 4,
 "nbformat_minor": 2
}
