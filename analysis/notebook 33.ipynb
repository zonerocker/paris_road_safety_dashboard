{
 "cells": [
  {
   "cell_type": "markdown",
   "metadata": {},
   "source": [
    "# Analysis of Paris Accident Data - Part 3\n",
    "\n",
    "**Goal**: Derive insights from the enriched accident data to support strategic decision-making.\n",
    "\n",
    "In this notebook, we:\n",
    "- Identify the top arrondissements and high-risk streets\n",
    "- Analyze temporal patterns (monthly and weekly)\n",
    "- Examine weather, road, and transport conditions\n",
    "- Visualize data to support actionable recommendations"
   ],
   "id": "5a9ba4285e25114c"
  },
  {
   "cell_type": "code",
   "execution_count": null,
   "metadata": {},
   "source": [
    "import pandas as pd\n",
    "import matplotlib.pyplot as plt\n",
    "import seaborn as sns\n",
    "import calendar\n",
    "\n",
    "# Load the enriched dataset\n",
    "df = pd.read_csv('../data/accidents_parsed.csv', sep=';', parse_dates=['accident_date'])\n",
    "\n",
    "print(df.info())\n",
    "df.head(3)"
   ],
   "outputs": [],
   "id": "a9822f6da970b47d"
  },
  {
   "cell_type": "markdown",
   "metadata": {},
   "source": [
    "## Top Arrondissements and High-Risk Streets\n",
    "\n",
    "We identify the top 3 arrondissements by unique accident count and then determine the top 3 high-accident streets in each."
   ],
   "id": "38fa2d49a52a193c"
  },
  {
   "cell_type": "code",
   "execution_count": null,
   "metadata": {},
   "source": [
    "# Count unique accidents per arrondissement\n",
    "accidents_per_arr = df.groupby('arrondissement')['accident_ID'].nunique().sort_values(ascending=False)\n",
    "top_3_arr = accidents_per_arr.head(3)\n",
    "\n",
    "print(\"Top 3 arrondissements with highest accident counts:\")\n",
    "display(top_3_arr)\n",
    "\n",
    "# Clean street names for clarity\n",
    "def clean_street_name(address_series):\n",
    "    return (address_series\n",
    "            .str.upper()\n",
    "            .str.replace(r'\\bBD\\b', 'BOULEVARD', regex=True)\n",
    "            .str.replace(r'\\bRTE\\b', 'ROUTE', regex=True)\n",
    "            .str.replace(r'\\bAV\\b', 'AVENUE', regex=True))\n",
    "\n",
    "df['clean_address'] = clean_street_name(df['address'])\n",
    "\n",
    "# For each top arrondissement, find the top 3 streets by accident count\n",
    "top_streets = {}\n",
    "for arr in top_3_arr.index:\n",
    "    mask = (df['arrondissement'] == arr)\n",
    "    street_counts = df[mask].groupby('clean_address')['accident_ID'].nunique().sort_values(ascending=False)\n",
    "    top_streets[arr] = street_counts.head(3)\n",
    "\n",
    "print(\"High-risk streets in top arrondissements:\")\n",
    "for arr in top_streets:\n",
    "    print(f\"Arrondissement {arr}:\")\n",
    "    display(top_streets[arr])"
   ],
   "outputs": [],
   "id": "d2648de4856b31ef"
  },
  {
   "cell_type": "markdown",
   "metadata": {},
   "source": [
    "### Visualization: Accident Counts by Arrondissement"
   ],
   "id": "c1d4fb7507419b41"
  },
  {
   "cell_type": "code",
   "execution_count": null,
   "metadata": {},
   "source": [
    "plt.figure(figsize=(10, 6))\n",
    "sns.barplot(x=accidents_per_arr.index, y=accidents_per_arr.values, color='tomato')\n",
    "plt.title('Number of Unique Accidents per Arrondissement')\n",
    "plt.xlabel('Arrondissement')\n",
    "plt.ylabel('Unique Accident Count')\n",
    "plt.tight_layout()\n",
    "plt.show()"
   ],
   "outputs": [],
   "id": "243d923885c6ea62"
  },
  {
   "cell_type": "markdown",
   "metadata": {},
   "source": [
    "## Temporal Analysis\n",
    "\n",
    "We analyze the distribution of accidents by month and weekday to identify peak times."
   ],
   "id": "4bff020871dedc9"
  },
  {
   "cell_type": "code",
   "execution_count": null,
   "metadata": {},
   "source": [
    "# Extract month and weekday from accident_date\n",
    "df['month'] = df['accident_date'].dt.month\n",
    "df['weekday'] = df['accident_date'].dt.weekday\n",
    "\n",
    "monthly_accidents = df.groupby('month')['accident_ID'].nunique().sort_index()\n",
    "weekday_accidents = df.groupby('weekday')['accident_ID'].nunique().sort_index()\n",
    "\n",
    "plt.figure(figsize=(14, 6))\n",
    "\n",
    "# Monthly Distribution\n",
    "plt.subplot(1, 2, 1)\n",
    "monthly_accidents.plot(kind='bar', color='#4ECDC4')\n",
    "plt.title('Monthly Accident Distribution')\n",
    "plt.xticks(ticks=range(12), labels=[calendar.month_abbr[m] for m in range(1,13)])\n",
    "plt.xlabel('Month')\n",
    "plt.ylabel('Number of Accidents')\n",
    "\n",
    "# Weekly Distribution\n",
    "plt.subplot(1, 2, 2)\n",
    "weekday_accidents.plot(kind='bar', color='#45B7D1')\n",
    "plt.title('Weekly Accident Distribution')\n",
    "plt.xticks(ticks=range(7), labels=['Mon','Tue','Wed','Thu','Fri','Sat','Sun'], rotation=0)\n",
    "plt.xlabel('Day of Week')\n",
    "plt.ylabel('Number of Accidents')\n",
    "\n",
    "plt.tight_layout()\n",
    "plt.show()"
   ],
   "outputs": [],
   "id": "85c72dffb4e9a31f"
  },
  {
   "cell_type": "markdown",
   "metadata": {},
   "source": [
    "## Analysis of Weather, Road, and Transportation Modes\n",
    "\n",
    "We examine weather conditions, road surface conditions, and the distribution of victim transport modes."
   ],
   "id": "edb382464b8e8587"
  },
  {
   "cell_type": "code",
   "execution_count": null,
   "metadata": {},
   "source": [
    "# Weather and Road Surface Conditions\n",
    "weather_counts = df['weather_condition'].value_counts(dropna=True)\n",
    "road_surface_counts = df['road_surface'].value_counts(dropna=True)\n",
    "\n",
    "print(\"Top Weather Conditions:\")\n",
    "display(weather_counts.head(5))\n",
    "\n",
    "print(\"\\nTop Road Surface Conditions:\")\n",
    "display(road_surface_counts.head(5))\n",
    "\n",
    "# Transportation Mode Distribution\n",
    "transport_modes = df['victim_transport_mode'].value_counts(dropna=True)\n",
    "\n",
    "plt.figure(figsize=(8, 6))\n",
    "transport_modes.head(5).plot(kind='bar', color='#45B7D1')\n",
    "plt.title('Transport Mode Distribution in Accidents')\n",
    "plt.ylabel('Count of Victims')\n",
    "plt.xticks(rotation=45, ha='right')\n",
    "plt.tight_layout()\n",
    "plt.show()"
   ],
   "outputs": [],
   "id": "6017f278820e28c7"
  },
  {
   "cell_type": "markdown",
   "metadata": {},
   "source": [
    "## Summary and Actionable Insights\n",
    "\n",
    "Based on our analysis, key insights include:\n",
    "- Concentration of accidents in top arrondissements and on specific high-risk streets\n",
    "- Temporal peaks that could guide targeted interventions\n",
    "- Weather and road conditions that may require infrastructure or policy changes\n",
    "\n",
    "These insights support strategic decisions on where to deploy resources for maximum impact."
   ],
   "id": "300ccd31673388d0"
  }
 ],
 "metadata": {
  "kernelspec": {
   "display_name": "Python 3",
   "language": "python",
   "name": "python3"
  },
  "language_info": {
   "name": "python",
   "version": "3.x"
  }
 },
 "nbformat": 4,
 "nbformat_minor": 5
}
