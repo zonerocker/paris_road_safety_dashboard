{
 "cells": [
  {
   "cell_type": "markdown",
   "id": "5b3a4b45",
   "metadata": {},
   "source": [
    "# Accident Analysis\n",
    "\n",
    "In this notebook, we will extract detailed accident information from résumé text.\n",
    "We will:\n",
    "\n",
    "1. **Import Libraries**  \n",
    "2. **Define Regex Patterns**  \n",
    "3. **Create an Extraction Function**  \n",
    "4. **Load and Clean the Data**  \n",
    "5. **Apply the Function**  \n",
    "6. **Inspect and Save the Results**\n"
   ]
  },
  {
   "cell_type": "markdown",
   "id": "c9985073",
   "metadata": {},
   "source": [
    "## 1) Import Libraries\n",
    "\n",
    "Let's bring in everything we need:\n",
    "- **pandas** for data manipulation.\n",
    "- **re** for regular expressions.\n",
    "- **typing** for type hints."
   ]
  },
  {
   "cell_type": "code",
   "execution_count": 24,
   "id": "becf3eca",
   "metadata": {},
   "outputs": [],
   "source": [
    "import pandas as pd\n",
    "import re\n",
    "from typing import List, Dict, Union\n",
    "import numpy as np"
   ]
  },
  {
   "cell_type": "markdown",
   "id": "13c66e46",
   "metadata": {},
   "source": [
    "## 2) Define Regex Patterns\n",
    "\n",
    "In this cell, we create dictionaries holding patterns for:\n",
    "- **Accident characteristics** (like severity and location)\n",
    "- **Vehicle types**\n",
    "- **Parties involved**"
   ]
  },
  {
   "cell_type": "code",
   "execution_count": 25,
   "id": "db9719b1",
   "metadata": {},
   "outputs": [
    {
     "name": "stdout",
     "output_type": "stream",
     "text": [
      "Patterns defined.\n"
     ]
    }
   ],
   "source": [
    "# Accident characteristics we want to extract\n",
    "combined_patterns = {\n",
    "    \"severity\": r\"Accident (Léger non mortel|Grave non mortel|Mortel)\",\n",
    "    \"location_context\": r\"(En agglomération|Hors agglomération)\",\n",
    "    \"road_configuration\": r\"(En Y|En T|En X|Hors intersection|Place|A plus de 4 branches)\",\n",
    "    \"lighting\": r\"(Plein jour|Crépuscule ou aube|Nuit avec éclairage public allumé|Nuit sans éclairage public)\",\n",
    "    \"weather\": r\"météo (Normale|Pluie légère|Temps couvert|Pluie forte)\",\n",
    "    \"surface\": r\"surface chaussée : (Normale|Mouillée|Non renseigné|Autre|Corps gras - huile|Enneigée|Flaques)\"\n",
    "}\n",
    "\n",
    "# Various vehicle types\n",
    "vehicle_patterns = {\n",
    "    \"Cyclomoteur <=50 cm3\": r\"Cyclomoteur <=50 cm3\",\n",
    "    \"Véhicule de tourisme (VT)\": r\"Véhicule de tourisme \\(VT\\)\",\n",
    "    \"Moto ou sidecar > 50 <= 125 cm3\": r\"Moto ou sidecar > 50 <= 125 cm3\",\n",
    "    \"Moto ou sidecar > 125 cm3\": r\"Moto ou sidecar > 125 cm3\",\n",
    "    \"Scooter <= 50 cm3\": r\"Scooter <= 50 cm3\",\n",
    "    \"Scooter > 125 cm3\": r\"Scooter > 125 cm3\",\n",
    "    \"Scooter > 50 <= 125 cm3\": r\"Scooter > 50 <= 125 cm3\",\n",
    "    \"VU seul 1,5T < PTAC <=3,5T\": r\"VU seul 1,5T < PTAC <=3,5T\",\n",
    "    \"PL > 3,5T + remorque\": r\"PL > 3,5T \\+ remorque\",\n",
    "    \"PL seul 3,5T <=\": r\"PL seul 3,5T <=\",\n",
    "    \"Autocar\": r\"Autocar\",\n",
    "    \"Autobus\": r\"Autobus\",\n",
    "    \"Bicyclette\": r\"Bicyclette\",\n",
    "    \"EDP-m\": r\"EDP-m\",\n",
    "    \"Voiturette\": r\"Voiturette\",\n",
    "    \"Quad léger <= 50 cm3\": r\"Quad léger <= 50 cm3\",\n",
    "    \"Tramway\": r\"Tramway\",\n",
    "    \"Autre véhicule\": r\"Autre véhicule\",\n",
    "    \"Tracteur routier + semi-remorque\": r\"Tracteur routier \\+ semi-remorque\",\n",
    "    \"PL seul PTAC > 7,5T\": r\"PL seul PTAC > 7,5T\",\n",
    "    \"3 RM > 125 cm3\": r\"3 RM > 125 cm3\",\n",
    "    \"3 RM <= 50 cm3\": r\"3 RM <= 50 cm3\",\n",
    "    \"Vélo par assistance électrique\": r\"Vélo par assistance électrique\",\n",
    "    \"Engin spécial\": r\"Engin spécial\",\n",
    "    \"EDP-sm\": r\"EDP-sm\",\n",
    "    \"Quad lourd > 50 cm3\": r\"Quad lourd > 50 cm3\",\n",
    "    \"Tracteur agricole\": r\"Tracteur agricole\",\n",
    "    \"EDP sans moteur\": r\"Autre engin de déplacement personnel (EDP) sans moteur\",\n",
    "    \"Indéterminable\": r\"Indéterminable\",\n",
    "    \"Piéton\": r\"Piéton\",\n",
    "    \"PL seul 3,5T <PTAC <= 7,5T\": r\"PL seul 3,5T <PTAC <= 7,5T\",\n",
    "    \"Nouvel engin de déplacement personnel (EDP) à moteur\": r\"Nouvel engin de déplacement personnel (EDP) à moteur\",\n",
    "    \"Tracteur routier\": r\"Tracteur routier\",\n",
    "    \"PL seul PTAC <= 7,5T\": r\"PL seul PTAC <= 7,5T\",\n",
    "    \"3 RM > 50 <= 125 cm3\": r\"3 RM > 50 <= 125 cm3\",\n",
    "    \"Autre engin de déplacement personnel (EDP) sans moteur\": r\"Autre engin de déplacement personnel (EDP) sans moteur\"\n",
    "}\n",
    "\n",
    "# Parties involved\n",
    "parties_patterns = {\n",
    "    \"Piéton Féminin\": r\"\\b1 Piéton Feminin\\b\",\n",
    "    \"Piéton Masculin\": r\"\\b1 Piéton Masculin\\b\",\n",
    "    \"Piéton\": r\"\\b1 Piéton(?!\\s(?:Feminin|Masculin))\\b\",\n",
    "    \"Usager Masculin\": r\"\\b1 usager Masculin(?: de \\d+ ans)?(?:\\s\\(.+?\\))?(?!\\spassager)\",\n",
    "    \"Usager Féminin\": r\"\\b1 usager Feminin(?: de \\d+ ans)?(?:\\s\\(.+?\\))?(?!\\spassager)\",\n",
    "    \"Passager Masculin\": r\"avec \\d+ passager(?:s)? Masculin\",\n",
    "    \"Passager Féminin\": r\"avec \\d+ passager(?:s)? Feminin\",\n",
    "    \"Passager\": r\"avec (\\d+) passager\",\n",
    "    \"Bicyclette\": r\"\\b1\\s(?:Bic|Bicyclette)\\b\",\n",
    "    \"Véhicule de tourisme (VT)\": r\"heurte 1 Véhicule de tourisme \\(VT\\)\"\n",
    "}\n",
    "print(\"Patterns defined.\")"
   ]
  },
  {
   "cell_type": "markdown",
   "id": "f6c29300",
   "metadata": {},
   "source": [
    "## 3) Create an Extraction Function\n",
    "\n",
    "This function will:\n",
    "- Check if input is a valid string.\n",
    "- Find matches for accident characteristics.\n",
    "- Find all listed vehicle types.\n",
    "- Determine which parties are involved.\n",
    "- Return all findings in a dictionary."
   ]
  },
  {
   "cell_type": "code",
   "execution_count": 26,
   "id": "6be45f23",
   "metadata": {},
   "outputs": [
    {
     "name": "stdout",
     "output_type": "stream",
     "text": [
      "Extraction function created.\n"
     ]
    }
   ],
   "source": [
    "def extract_accident_details(resume: str) -> Dict[str, Union[str, bool, List[str]]]:\n",
    "    # If the résumé is missing or not a string, return empty.\n",
    "    if not isinstance(resume, str) or pd.isna(resume):\n",
    "        return {}\n",
    "\n",
    "    result = {}\n",
    "\n",
    "    # 1) Extract accident characteristics.\n",
    "    for key, pattern in combined_patterns.items():\n",
    "        match = re.search(pattern, resume)\n",
    "        result[key] = match.group(1) if match else None\n",
    "\n",
    "    # 2) Extract vehicle types found.\n",
    "    all_vehicle_patterns = \"|\".join(vehicle_patterns.values())\n",
    "    result[\"vehicle_types\"] = re.findall(all_vehicle_patterns, resume)\n",
    "\n",
    "    # 3) Identify parties involved.\n",
    "    result[\"parties_involved\"] = []\n",
    "    for key, pattern in parties_patterns.items():\n",
    "        matches = re.findall(pattern, resume)\n",
    "        if matches:\n",
    "            # For multiple passengers, store the number.\n",
    "            if key == \"Passager\":\n",
    "                for count in matches:\n",
    "                    passenger_text = f\"avec {count} passager{'s' if int(count) > 1 else ''}\"\n",
    "                    result[\"parties_involved\"].append(passenger_text)\n",
    "            else:\n",
    "                # For everything else, add it as many times as matched.\n",
    "                result[\"parties_involved\"].extend([key] * len(matches))\n",
    "\n",
    "    return result\n",
    "\n",
    "print(\"Extraction function created.\")"
   ]
  },
  {
   "cell_type": "markdown",
   "id": "968e1576",
   "metadata": {},
   "source": [
    "## 4) Load and Clean the Data\n",
    "\n",
    "We'll read in a CSV file called `accidents.csv`.\n",
    "Then we'll remove extra spaces from the `Résumé` column."
   ]
  },
  {
   "cell_type": "code",
   "execution_count": 27,
   "id": "3c05d833",
   "metadata": {},
   "outputs": [
    {
     "name": "stdout",
     "output_type": "stream",
     "text": [
      "Résumé column cleaned.\n"
     ]
    }
   ],
   "source": [
    "# Make sure the file exists and the path is correct.\n",
    "df = pd.read_csv(\"../data/accidents.csv\", encoding='utf-8', sep=\";\")\n",
    "\n",
    "# Clean up extra spaces.\n",
    "df['Résumé'] = df['Résumé'].apply(\n",
    "    lambda x: re.sub(r'\\s+', ' ', x.strip()) if isinstance(x, str) else x\n",
    ")\n",
    "print(\"Résumé column cleaned.\")"
   ]
  },
  {
   "cell_type": "markdown",
   "id": "9a9656c3",
   "metadata": {},
   "source": [
    "## 5) Apply the Function\n",
    "\n",
    "We will use the function on each row in our data."
   ]
  },
  {
   "cell_type": "code",
   "execution_count": 28,
   "id": "9c87fa3d",
   "metadata": {},
   "outputs": [
    {
     "name": "stdout",
     "output_type": "stream",
     "text": [
      "Extraction applied to each résumé.\n"
     ]
    }
   ],
   "source": [
    "# Apply the extraction function.\n",
    "df['Résumé_Details'] = df['Résumé'].apply(extract_accident_details)\n",
    "print(\"Extraction applied to each résumé.\")\n"
   ]
  },
  {
   "cell_type": "markdown",
   "id": "70ad348b",
   "metadata": {},
   "source": [
    "## 6) Inspect and Save the Results\n",
    "\n",
    "We'll merge our new columns, preview the data, and then save it to a new CSV."
   ]
  },
  {
   "cell_type": "code",
   "execution_count": 29,
   "id": "deee45cd",
   "metadata": {},
   "outputs": [
    {
     "name": "stdout",
     "output_type": "stream",
     "text": [
      "| Résumé                                                                                                                                                                                                                                                       | severity         | location_context   | road_configuration   | lighting                          | weather       | surface       | vehicle_types                | parties_involved                      |\n",
      "|:-------------------------------------------------------------------------------------------------------------------------------------------------------------------------------------------------------------------------------------------------------------|:-----------------|:-------------------|:---------------------|:----------------------------------|:--------------|:--------------|:-----------------------------|:--------------------------------------|\n",
      "| Accident Léger non mortel, En agglomération, Hors intersection, Plein jour, avec une météo Normale et une surface chaussée : Non renseigné. 1 Cyclomoteur <=50 cm3 circulant sur Voie Communale VC conduit par 1 usager Masculin de 26 ans (Ind)heurte 1 P   | Léger non mortel | En agglomération   | Hors intersection    | Plein jour                        | Normale       | Non renseigné | [('', '', '')]               | ['Usager Masculin']                   |\n",
      "| Accident Léger non mortel, En agglomération, En Y, Plein jour, avec une météo Normale et une surface chaussée : Normale. 1 Scooter > 125 cm3 circulant sur Voie Communale VC conduit par 1 usager Masculin de 30 ans (BL)                                    | Léger non mortel | En agglomération   | En Y                 | Plein jour                        | Normale       | Normale       | [('', '', '')]               | ['Usager Masculin']                   |\n",
      "| Accident Léger non mortel, En agglomération, En X, Plein jour, avec une météo Normale et une surface chaussée : Normale. 1 Véhicule de tourisme (VT) circulant sur Voie Communale VC conduit par 1 usager Masculin de 45 ans (Ind)heurte 1 Scooter <= 50 cm  | Léger non mortel | En agglomération   | En X                 | Plein jour                        | Normale       | Normale       | [('', '', '')]               | ['Usager Masculin']                   |\n",
      "| Accident Léger non mortel, En agglomération, Hors intersection, Plein jour, avec une météo Normale et une surface chaussée : Normale. 1 Véhicule de tourisme (VT) circulant sur Voie Communale VC conduit par 1 usager Masculin de 53 ans (Ind)heurte 1 Bic  | Léger non mortel | En agglomération   | Hors intersection    | Plein jour                        | Normale       | Normale       | [('', '', '')]               | ['Usager Masculin', 'Bicyclette']     |\n",
      "| Accident Léger non mortel, En agglomération, Hors intersection, Plein jour, avec une météo Pluie légère et une surface chaussée : Mouillée. 1 Scooter > 125 cm3 circulant sur Voie Communale VC conduit par 1 usager Masculin de 50 ans (BL)heurte 1 Véhicu  | Léger non mortel | En agglomération   | Hors intersection    | Plein jour                        | Pluie légère  | Mouillée      | [('', '', '')]               | ['Usager Masculin']                   |\n",
      "| Accident Léger non mortel, En agglomération, Hors intersection, Plein jour, avec une météo Pluie légère et une surface chaussée : Mouillée. 1 Véhicule de tourisme (VT) circulant sur Voie Communale VC conduit par 1 usager Feminin de 32 ans (Ind)heurte   | Léger non mortel | En agglomération   | Hors intersection    | Plein jour                        | Pluie légère  | Mouillée      | [('', '', '')]               | ['Usager Féminin']                    |\n",
      "| Accident Léger non mortel, En agglomération, En X, Plein jour, avec une météo Normale et une surface chaussée : Normale. 1 Véhicule de tourisme (VT) circulant sur Voie Communale VC conduit par 1 usager Feminin de 23 ans (Ind)heurte 1 Scooter > 50 <=    | Léger non mortel | En agglomération   | En X                 | Plein jour                        | Normale       | Normale       | [('', '', '')]               | ['Usager Féminin']                    |\n",
      "| Accident Léger non mortel, En agglomération, Hors intersection, Plein jour, avec une météo Normale et une surface chaussée : Normale. 1 Véhicule de tourisme (VT) circulant sur Voie Communale VC conduit par 1 usager Masculin de 30 ans (BL)heurte 1 Véhi  | Léger non mortel | En agglomération   | Hors intersection    | Plein jour                        | Normale       | Normale       | [('', '', '')]               | ['Usager Masculin']                   |\n",
      "| Accident Léger non mortel, En agglomération, En T, Plein jour, avec une météo Normale et une surface chaussée : Normale. 1 VU seul 1,5T < PTAC <=3,5T circulant sur Voie Communale VC conduit par 1 usager Masculin de 23 ans (Ind)heurte 1 Piéton Feminin   | Léger non mortel | En agglomération   | En T                 | Plein jour                        | Normale       | Normale       | [('', '', ''), ('', '', '')] | ['Piéton Féminin', 'Usager Masculin'] |\n",
      "| Accident Léger non mortel, En agglomération, Hors intersection, Plein jour, avec une météo Temps couvert et une surface chaussée : Normale. 1 Scooter > 125 cm3 circulant sur Voie Communale VC conduit par 1 usager Masculin de 49 ans (BL)heurte 1 Véhicu  | Léger non mortel | En agglomération   | Hors intersection    | Plein jour                        | Temps couvert | Normale       | [('', '', '')]               | ['Usager Masculin']                   |\n",
      "| Accident Léger non mortel, En agglomération, Hors intersection, Crépuscule ou aube, avec une météo Normale et une surface chaussée : Normale. 1 Quad léger <= 50 cm3 circulant sur Voie Communale VC conduit par 1 usager Masculin de 22 ans (BL)            | Léger non mortel | En agglomération   | Hors intersection    | Crépuscule ou aube                | Normale       | Normale       | [('', '', '')]               | ['Usager Masculin']                   |\n",
      "| Accident Léger non mortel, En agglomération, En T, Plein jour, avec une météo Temps couvert et une surface chaussée : Non renseigné. 1 Véhicule de tourisme (VT) circulant sur Voie Communale VC conduit par 1 usager Masculin de 41 ans (Ind)heurte 1 Pié   | Léger non mortel | En agglomération   | En T                 | Plein jour                        | Temps couvert | Non renseigné | [('', '', '')]               | ['Usager Masculin']                   |\n",
      "| Accident Léger non mortel, En agglomération, En X, Plein jour, avec une météo Normale et une surface chaussée : Normale. 1 Véhicule de tourisme (VT) circulant sur Voie Communale VCheurte 1 Moto ou sidecar > 50 <= 125 cm3 conduit par 1 usager Masculin   | Léger non mortel | En agglomération   | En X                 | Plein jour                        | Normale       | Normale       | [('', '', ''), ('', '', '')] | ['Usager Masculin']                   |\n",
      "| Accident Léger non mortel, En agglomération, En X, Nuit avec éclairage public allumé, avec une météo Normale et une surface chaussée : Normale. 1 Véhicule de tourisme (VT) circulant sur Voie Communale VC conduit par 1 usager Masculin de 46 ans (Ind) av | Léger non mortel | En agglomération   | En X                 | Nuit avec éclairage public allumé | Normale       | Normale       | [('', '', '')]               | ['Usager Masculin']                   |\n",
      "| Accident Léger non mortel, En agglomération, Place, Nuit avec éclairage public allumé, avec une météo Normale et une surface chaussée : Normale. 1 Véhicule de tourisme (VT) circulant sur Voie Communale VC conduit par 1 usager Feminin de 28 ans (Ind)h   | Léger non mortel | En agglomération   | Place                | Nuit avec éclairage public allumé | Normale       | Normale       | [('', '', '')]               | ['Usager Féminin']                    |\n",
      "Results saved as 'accidents-enriched.csv'.\n"
     ]
    }
   ],
   "source": [
    "# Expand the dictionaries in 'Résumé_Details'\n",
    "df_improved = pd.concat([df, df['Résumé_Details'].apply(pd.Series)], axis=1)\n",
    "\n",
    "# Remove unneeded columns.\n",
    "df_improved.drop(['Résumé_Details'], axis=1, inplace=True, errors='ignore')\n",
    "df_improved.drop(['Résumé_Details'], axis=1, inplace=True, errors='ignore')\n",
    "\n",
    "# Show a preview in a Markdown-like table.\n",
    "df_preview = df_improved[\n",
    "    [\n",
    "        'Résumé',\n",
    "        'severity',\n",
    "        'location_context',\n",
    "        'road_configuration',\n",
    "        'lighting',\n",
    "        'weather',\n",
    "        'surface',\n",
    "        'vehicle_types',\n",
    "        'parties_involved'\n",
    "    ]\n",
    "].head(15)\n",
    "\n",
    "print(df_preview.to_markdown(index=False))\n",
    "\n",
    "# Save the results.\n",
    "df_improved.to_csv('../data/accidents-enriched.csv', index=False)\n",
    "print(\"Results saved as 'accidents-enriched.csv'.\")"
   ]
  }
 ],
 "metadata": {
  "kernelspec": {
   "display_name": "venv",
   "language": "python",
   "name": "python3"
  },
  "language_info": {
   "codemirror_mode": {
    "name": "ipython",
    "version": 3
   },
   "file_extension": ".py",
   "mimetype": "text/x-python",
   "name": "python",
   "nbconvert_exporter": "python",
   "pygments_lexer": "ipython3",
   "version": "3.12.6"
  }
 },
 "nbformat": 4,
 "nbformat_minor": 5
}
