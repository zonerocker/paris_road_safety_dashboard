{
 "cells": [
  {
   "cell_type": "markdown",
   "metadata": {},
   "source": [
    "# Analysis of Paris Accident Data - Part 1\n",
    "\n",
    "**Goal**: Prepare and clean the raw accident dataset to enable further analysis.\n",
    "\n",
    "In this notebook, we:\n",
    "- Load and inspect the raw dataset\n",
    "- Rename columns to English-friendly names\n",
    "- Check for duplicates and inconsistencies\n",
    "- Clean, standardize, and convert data types\n",
    "- Save the cleaned dataset for further analysis"
   ],
   "id": "15e4e9118b012ff6"
  },
  {
   "cell_type": "code",
   "execution_count": null,
   "metadata": {},
   "source": [
    "import pandas as pd\n",
    "\n",
    "# Load the raw dataset\n",
    "df = pd.read_csv('../data/accidents.csv', sep=';')\n",
    "\n",
    "# Display the first 3 rows\n",
    "print(df.head(3))"
   ],
   "outputs": [],
   "id": "34eda653fa8bed92"
  },
  {
   "cell_type": "markdown",
   "metadata": {},
   "source": [
    "### Renaming Columns for Clarity\n",
    "\n",
    "We rename columns to make them more understandable."
   ],
   "id": "220599b2a986b389"
  },
  {
   "cell_type": "code",
   "execution_count": null,
   "metadata": {},
   "source": [
    "df = df.rename(columns={\n",
    "    'IdUsager': 'victim_ID',\n",
    "    'Date': 'accident_date',\n",
    "    'PV': 'report_number',\n",
    "    'Mode': 'victim_transport_mode',\n",
    "    'Catégorie': 'victim_category',\n",
    "    'Gravité': 'victim_injury_severity',\n",
    "    'Age': 'victim_age',\n",
    "    'Genre': 'victim_sex',\n",
    "    'Milieu': 'environment',\n",
    "    'Adresse': 'address',\n",
    "    'Id accident': 'accident_ID',\n",
    "    'PIM/BD PERIPHERIQUE': 'periphery_info',\n",
    "    \"Tranche d'age\": 'victim_age_group',\n",
    "    'Blessés Légers': 'victim_minor_injuries?',\n",
    "    'Blessés hospitalisés': 'victim_hospitalized?',\n",
    "    'Tué': 'victim_deceased?',\n",
    "    'Résumé': 'report_summary',\n",
    "    'Nom arrondissement': 'district_name',\n",
    "    'Nom arrondissement.1': 'district_name.1',\n",
    "    'Coordonnées': 'coordinates',\n",
    "    'Coordonnées.1': 'coordinates.1',\n",
    "    'Arrondissement': 'district',\n",
    "    'arronco': 'district_code',\n",
    "    'Latitude': 'latitude',\n",
    "    'Longitude': 'longitude'\n",
    "})\n",
    "\n",
    "print(df.head(3))"
   ],
   "outputs": [],
   "id": "a82122d56597ae1d"
  },
  {
   "cell_type": "markdown",
   "metadata": {},
   "source": [
    "### Column Summary & Duplicate Check\n",
    "\n",
    "We inspect data types, missing values, and check for duplicate columns."
   ],
   "id": "c08b4bce7f8c2974"
  },
  {
   "cell_type": "code",
   "execution_count": null,
   "metadata": {},
   "source": [
    "def column_summary(df):\n",
    "    summary_data = []\n",
    "    for col in df.columns:\n",
    "        summary_data.append({\n",
    "            'col_name': col,\n",
    "            'dtype': df[col].dtype,\n",
    "            'num_nulls': df[col].isnull().sum(),\n",
    "            'num_unique': df[col].nunique()\n",
    "        })\n",
    "    return pd.DataFrame(summary_data)\n",
    "\n",
    "summary_df = column_summary(df)\n",
    "display(summary_df)\n",
    "\n",
    "# Check for duplicate columns (e.g., district_name vs district_name.1)\n",
    "district_mismatch = df[df['district_name'].notna() & (df['district_name'] != df['district_name.1'])]\n",
    "coord_mismatch = df[df['coordinates'].notna() & (df['coordinates'] != df['coordinates.1'])]\n",
    "print(\"District mismatches:\", district_mismatch.shape[0])\n",
    "print(\"Coordinate mismatches:\", coord_mismatch.shape[0])"
   ],
   "outputs": [],
   "id": "767851855709d00d"
  },
  {
   "cell_type": "markdown",
   "metadata": {},
   "source": [
    "### Data Slimming and Cleaning\n",
    "\n",
    "We drop redundant columns, convert data types, and standardize values."
   ],
   "id": "eef1f768e87905a"
  },
  {
   "cell_type": "code",
   "execution_count": null,
   "metadata": {},
   "source": [
    "columns_to_drop = [\n",
    "    'district_name', 'district_name.1', 'coordinates', 'coordinates.1', 'district',\n",
    "    'Champ13', 'victim_injury_severity', 'victim_ID', 'report_number'\n",
    "]\n",
    "df = df.drop(columns=columns_to_drop)\n",
    "\n",
    "# Convert date column to datetime\n",
    "df['accident_date'] = pd.to_datetime(df['accident_date'], errors='coerce')\n",
    "\n",
    "# Convert numeric columns\n",
    "int_cols = ['victim_age', 'accident_ID', 'victim_minor_injuries?', 'victim_hospitalized?', 'victim_deceased?']\n",
    "df[int_cols] = df[int_cols].apply(pd.to_numeric, errors='coerce').astype('Int64')\n",
    "\n",
    "float_cols = ['latitude', 'longitude']\n",
    "df[float_cols] = df[float_cols].apply(pd.to_numeric, errors='coerce').astype('float64')\n",
    "\n",
    "# Convert string columns\n",
    "string_cols = [\n",
    "    'victim_transport_mode', 'victim_category', 'victim_sex', 'environment',\n",
    "    'address', 'periphery_info', 'victim_age_group', 'report_summary'\n",
    "]\n",
    "df[string_cols] = df[string_cols].astype('string')\n",
    "\n",
    "# Convert booleans (assuming 1 represents True)\n",
    "bool_cols = ['victim_minor_injuries?', 'victim_hospitalized?', 'victim_deceased?']\n",
    "df[bool_cols] = df[bool_cols].apply(lambda x: x.map(lambda y: True if y == 1 else False))\n",
    "\n",
    "# Standardize victim_sex values\n",
    "df['victim_sex'] = df['victim_sex'].map({'Masculin': 'M', 'Feminin': 'F'})\n",
    "\n",
    "print(df.head(3))"
   ],
   "outputs": [],
   "id": "52ae1a72bd3f1a69"
  },
  {
   "metadata": {},
   "cell_type": "code",
   "outputs": [],
   "execution_count": null,
   "source": [
    "# Convert 'district_code' to arrondissement numbers (using last two digits)\n",
    "df['arrondissement'] = df['district_code'].astype(str).str[-2:].astype(int)"
   ],
   "id": "34bb6ac4e67c30dd"
  },
  {
   "cell_type": "markdown",
   "metadata": {},
   "source": [
    "### Save the Cleaned Dataset\n",
    "\n",
    "The cleaned dataset is saved for use in subsequent notebooks."
   ],
   "id": "b43615dfc6038335"
  },
  {
   "cell_type": "code",
   "execution_count": null,
   "metadata": {},
   "source": [
    "df.to_csv('../data/accidents_cleaned.csv', index=False, sep=';')\n",
    "print('Cleaned dataset saved as accidents_cleaned.csv')"
   ],
   "outputs": [],
   "id": "86bb0eb6f389509f"
  }
 ],
 "metadata": {
  "kernelspec": {
   "display_name": "Python 3",
   "language": "python",
   "name": "python3"
  },
  "language_info": {
   "name": "python",
   "version": "3.x"
  }
 },
 "nbformat": 4,
 "nbformat_minor": 5
}
